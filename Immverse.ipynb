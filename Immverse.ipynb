{
 "cells": [
  {
   "cell_type": "code",
   "execution_count": 1,
   "id": "c9fc7848",
   "metadata": {},
   "outputs": [],
   "source": [
    "import pandas as pd\n",
    "import numpy as np\n",
    "import seaborn as sns \n",
    "import matplotlib.pyplot as plt\n",
    "from datetime import datetime"
   ]
  },
  {
   "cell_type": "markdown",
   "id": "94d401ff",
   "metadata": {},
   "source": [
    "### In this we are using Amazon grocery review data "
   ]
  },
  {
   "cell_type": "markdown",
   "id": "be39ae9b",
   "metadata": {},
   "source": [
    "### Data Loading & Preprocessing"
   ]
  },
  {
   "cell_type": "code",
   "execution_count": 2,
   "id": "687f1eb9",
   "metadata": {},
   "outputs": [],
   "source": [
    "#Read the Dataset using Pandas\n",
    "df=pd.read_csv('amazon_grocery_Data.csv')"
   ]
  },
  {
   "cell_type": "code",
   "execution_count": 3,
   "id": "478f1210",
   "metadata": {},
   "outputs": [
    {
     "data": {
      "text/html": [
       "<div>\n",
       "<style scoped>\n",
       "    .dataframe tbody tr th:only-of-type {\n",
       "        vertical-align: middle;\n",
       "    }\n",
       "\n",
       "    .dataframe tbody tr th {\n",
       "        vertical-align: top;\n",
       "    }\n",
       "\n",
       "    .dataframe thead th {\n",
       "        text-align: right;\n",
       "    }\n",
       "</style>\n",
       "<table border=\"1\" class=\"dataframe\">\n",
       "  <thead>\n",
       "    <tr style=\"text-align: right;\">\n",
       "      <th></th>\n",
       "      <th>Unnamed: 0</th>\n",
       "      <th>market_place</th>\n",
       "      <th>customer_id</th>\n",
       "      <th>review_id</th>\n",
       "      <th>product_id</th>\n",
       "      <th>product_parent</th>\n",
       "      <th>product_title</th>\n",
       "      <th>product_category</th>\n",
       "      <th>star_rating</th>\n",
       "      <th>helpful_votes</th>\n",
       "      <th>total_votes</th>\n",
       "      <th>vine</th>\n",
       "      <th>verified_purchase</th>\n",
       "      <th>review_headline</th>\n",
       "      <th>review_body</th>\n",
       "      <th>review_date</th>\n",
       "      <th>Sentiment_grcry</th>\n",
       "    </tr>\n",
       "  </thead>\n",
       "  <tbody>\n",
       "    <tr>\n",
       "      <th>0</th>\n",
       "      <td>0</td>\n",
       "      <td>\"US\"</td>\n",
       "      <td>\"42521656\"</td>\n",
       "      <td>\"R26MV8D0KG6QI6\"</td>\n",
       "      <td>\"B000SAQCWC\"</td>\n",
       "      <td>\"159713740\"</td>\n",
       "      <td>\"The Cravings Place Chocolate Chunk Cookie Mix...</td>\n",
       "      <td>\"Grocery\"</td>\n",
       "      <td>1</td>\n",
       "      <td>0</td>\n",
       "      <td>0</td>\n",
       "      <td>0 \\t(N)</td>\n",
       "      <td>1 \\t(Y)</td>\n",
       "      <td>\"Using these for years - love them.\"</td>\n",
       "      <td>\"As a family allergic to wheat, dairy, eggs, n...</td>\n",
       "      <td>2015-08-31</td>\n",
       "      <td>positive</td>\n",
       "    </tr>\n",
       "    <tr>\n",
       "      <th>1</th>\n",
       "      <td>1</td>\n",
       "      <td>\"US\"</td>\n",
       "      <td>\"12049833\"</td>\n",
       "      <td>\"R1OF8GP57AQ1A0\"</td>\n",
       "      <td>\"B00509LVIQ\"</td>\n",
       "      <td>\"138680402\"</td>\n",
       "      <td>\"Mauna Loa Macadamias, 11 Ounce Packages\"</td>\n",
       "      <td>\"Grocery\"</td>\n",
       "      <td>1</td>\n",
       "      <td>0</td>\n",
       "      <td>0</td>\n",
       "      <td>0 \\t(N)</td>\n",
       "      <td>1 \\t(Y)</td>\n",
       "      <td>\"Wonderful\"</td>\n",
       "      <td>\"My favorite nut. Creamy, crunchy, salty, and ...</td>\n",
       "      <td>2015-08-31</td>\n",
       "      <td>positive</td>\n",
       "    </tr>\n",
       "    <tr>\n",
       "      <th>2</th>\n",
       "      <td>2</td>\n",
       "      <td>\"US\"</td>\n",
       "      <td>\"107642\"</td>\n",
       "      <td>\"R3VDC1QB6MC4ZZ\"</td>\n",
       "      <td>\"B00KHXESLC\"</td>\n",
       "      <td>\"252021703\"</td>\n",
       "      <td>\"Organic Matcha Green Tea Powder - 100% Pure M...</td>\n",
       "      <td>\"Grocery\"</td>\n",
       "      <td>1</td>\n",
       "      <td>0</td>\n",
       "      <td>0</td>\n",
       "      <td>0 \\t(N)</td>\n",
       "      <td>0 \\t(N)</td>\n",
       "      <td>\"Five Stars\"</td>\n",
       "      <td>\"This green tea tastes so good! My girlfriend ...</td>\n",
       "      <td>2015-08-31</td>\n",
       "      <td>positive</td>\n",
       "    </tr>\n",
       "    <tr>\n",
       "      <th>3</th>\n",
       "      <td>3</td>\n",
       "      <td>\"US\"</td>\n",
       "      <td>\"6042304\"</td>\n",
       "      <td>\"R12FA3DCF8F9ER\"</td>\n",
       "      <td>\"B000F8JIIC\"</td>\n",
       "      <td>\"752728342\"</td>\n",
       "      <td>\"15oz Raspberry Lyons Designer Dessert Syrup S...</td>\n",
       "      <td>\"Grocery\"</td>\n",
       "      <td>1</td>\n",
       "      <td>0</td>\n",
       "      <td>0</td>\n",
       "      <td>0 \\t(N)</td>\n",
       "      <td>1 \\t(Y)</td>\n",
       "      <td>\"Five Stars\"</td>\n",
       "      <td>\"I love Melissa's brand but this is a great se...</td>\n",
       "      <td>2015-08-31</td>\n",
       "      <td>positive</td>\n",
       "    </tr>\n",
       "    <tr>\n",
       "      <th>4</th>\n",
       "      <td>4</td>\n",
       "      <td>\"US\"</td>\n",
       "      <td>\"18123821\"</td>\n",
       "      <td>\"RTWHVNV6X4CNJ\"</td>\n",
       "      <td>\"B004ZWR9RQ\"</td>\n",
       "      <td>\"552138758\"</td>\n",
       "      <td>\"Stride Spark Kinetic Fruit Sugar Free Gum, 14...</td>\n",
       "      <td>\"Grocery\"</td>\n",
       "      <td>1</td>\n",
       "      <td>0</td>\n",
       "      <td>0</td>\n",
       "      <td>0 \\t(N)</td>\n",
       "      <td>1 \\t(Y)</td>\n",
       "      <td>\"Five Stars\"</td>\n",
       "      <td>\"good\"</td>\n",
       "      <td>2015-08-31</td>\n",
       "      <td>positive</td>\n",
       "    </tr>\n",
       "    <tr>\n",
       "      <th>...</th>\n",
       "      <td>...</td>\n",
       "      <td>...</td>\n",
       "      <td>...</td>\n",
       "      <td>...</td>\n",
       "      <td>...</td>\n",
       "      <td>...</td>\n",
       "      <td>...</td>\n",
       "      <td>...</td>\n",
       "      <td>...</td>\n",
       "      <td>...</td>\n",
       "      <td>...</td>\n",
       "      <td>...</td>\n",
       "      <td>...</td>\n",
       "      <td>...</td>\n",
       "      <td>...</td>\n",
       "      <td>...</td>\n",
       "      <td>...</td>\n",
       "    </tr>\n",
       "    <tr>\n",
       "      <th>95</th>\n",
       "      <td>95</td>\n",
       "      <td>\"US\"</td>\n",
       "      <td>\"41855640\"</td>\n",
       "      <td>\"R14RNK4F6OPVHI\"</td>\n",
       "      <td>\"B00MGDVYCM\"</td>\n",
       "      <td>\"527526119\"</td>\n",
       "      <td>\"Emerald Cocoa Roast Dark Chocolate Almonds - ...</td>\n",
       "      <td>\"Grocery\"</td>\n",
       "      <td>1</td>\n",
       "      <td>0</td>\n",
       "      <td>0</td>\n",
       "      <td>0 \\t(N)</td>\n",
       "      <td>1 \\t(Y)</td>\n",
       "      <td>\"Five Stars\"</td>\n",
       "      <td>\"Delicious\"</td>\n",
       "      <td>2015-08-31</td>\n",
       "      <td>positive</td>\n",
       "    </tr>\n",
       "    <tr>\n",
       "      <th>96</th>\n",
       "      <td>96</td>\n",
       "      <td>\"US\"</td>\n",
       "      <td>\"13730310\"</td>\n",
       "      <td>\"R29XUIKKYB1SVA\"</td>\n",
       "      <td>\"B00NESWWIS\"</td>\n",
       "      <td>\"807933739\"</td>\n",
       "      <td>\"Fiber One Chewy Bars Oats &amp; Chocolate: 36 Bar...</td>\n",
       "      <td>\"Grocery\"</td>\n",
       "      <td>1</td>\n",
       "      <td>2</td>\n",
       "      <td>3</td>\n",
       "      <td>0 \\t(N)</td>\n",
       "      <td>0 \\t(N)</td>\n",
       "      <td>\"Very Satisfying!!\"</td>\n",
       "      <td>\"I needed more fiber in my diet and decided to...</td>\n",
       "      <td>2015-08-31</td>\n",
       "      <td>positive</td>\n",
       "    </tr>\n",
       "    <tr>\n",
       "      <th>97</th>\n",
       "      <td>97</td>\n",
       "      <td>\"US\"</td>\n",
       "      <td>\"48872127\"</td>\n",
       "      <td>\"R22YPES48XVR9Z\"</td>\n",
       "      <td>\"B00O8SQTIM\"</td>\n",
       "      <td>\"46432804\"</td>\n",
       "      <td>\"Gerber Good Start Infant Formula Sample Box\"</td>\n",
       "      <td>\"Grocery\"</td>\n",
       "      <td>0</td>\n",
       "      <td>0</td>\n",
       "      <td>0</td>\n",
       "      <td>0 \\t(N)</td>\n",
       "      <td>0 \\t(N)</td>\n",
       "      <td>\"Okay formula\"</td>\n",
       "      <td>\"Like most working moms, I can't pump enough t...</td>\n",
       "      <td>2015-08-31</td>\n",
       "      <td>negaitve</td>\n",
       "    </tr>\n",
       "    <tr>\n",
       "      <th>98</th>\n",
       "      <td>98</td>\n",
       "      <td>\"US\"</td>\n",
       "      <td>\"12859252\"</td>\n",
       "      <td>\"RTL7D7ONFKQTO\"</td>\n",
       "      <td>\"B0064OLVFY\"</td>\n",
       "      <td>\"518513658\"</td>\n",
       "      <td>\"Cheese Wax 1 lb - Red\"</td>\n",
       "      <td>\"Grocery\"</td>\n",
       "      <td>1</td>\n",
       "      <td>0</td>\n",
       "      <td>0</td>\n",
       "      <td>0 \\t(N)</td>\n",
       "      <td>1 \\t(Y)</td>\n",
       "      <td>\"Five Stars\"</td>\n",
       "      <td>\"Love it!\"</td>\n",
       "      <td>2015-08-31</td>\n",
       "      <td>positive</td>\n",
       "    </tr>\n",
       "    <tr>\n",
       "      <th>99</th>\n",
       "      <td>99</td>\n",
       "      <td>\"US\"</td>\n",
       "      <td>\"33828780\"</td>\n",
       "      <td>\"R2B9WKQP7ZZVPQ\"</td>\n",
       "      <td>\"B006ONNLNA\"</td>\n",
       "      <td>\"702537450\"</td>\n",
       "      <td>\"Gustaf’s Traditional Dutch Authentic Double S...</td>\n",
       "      <td>\"Grocery\"</td>\n",
       "      <td>0</td>\n",
       "      <td>0</td>\n",
       "      <td>5</td>\n",
       "      <td>0 \\t(N)</td>\n",
       "      <td>1 \\t(Y)</td>\n",
       "      <td>\"It's actually TOO salty.\"</td>\n",
       "      <td>\"Not what I expected. Did not like it at all.\"</td>\n",
       "      <td>2015-08-31</td>\n",
       "      <td>negaitve</td>\n",
       "    </tr>\n",
       "  </tbody>\n",
       "</table>\n",
       "<p>100 rows × 17 columns</p>\n",
       "</div>"
      ],
      "text/plain": [
       "    Unnamed: 0 market_place customer_id         review_id    product_id  \\\n",
       "0            0         \"US\"  \"42521656\"  \"R26MV8D0KG6QI6\"  \"B000SAQCWC\"   \n",
       "1            1         \"US\"  \"12049833\"  \"R1OF8GP57AQ1A0\"  \"B00509LVIQ\"   \n",
       "2            2         \"US\"    \"107642\"  \"R3VDC1QB6MC4ZZ\"  \"B00KHXESLC\"   \n",
       "3            3         \"US\"   \"6042304\"  \"R12FA3DCF8F9ER\"  \"B000F8JIIC\"   \n",
       "4            4         \"US\"  \"18123821\"   \"RTWHVNV6X4CNJ\"  \"B004ZWR9RQ\"   \n",
       "..         ...          ...         ...               ...           ...   \n",
       "95          95         \"US\"  \"41855640\"  \"R14RNK4F6OPVHI\"  \"B00MGDVYCM\"   \n",
       "96          96         \"US\"  \"13730310\"  \"R29XUIKKYB1SVA\"  \"B00NESWWIS\"   \n",
       "97          97         \"US\"  \"48872127\"  \"R22YPES48XVR9Z\"  \"B00O8SQTIM\"   \n",
       "98          98         \"US\"  \"12859252\"   \"RTL7D7ONFKQTO\"  \"B0064OLVFY\"   \n",
       "99          99         \"US\"  \"33828780\"  \"R2B9WKQP7ZZVPQ\"  \"B006ONNLNA\"   \n",
       "\n",
       "   product_parent                                      product_title  \\\n",
       "0     \"159713740\"  \"The Cravings Place Chocolate Chunk Cookie Mix...   \n",
       "1     \"138680402\"          \"Mauna Loa Macadamias, 11 Ounce Packages\"   \n",
       "2     \"252021703\"  \"Organic Matcha Green Tea Powder - 100% Pure M...   \n",
       "3     \"752728342\"  \"15oz Raspberry Lyons Designer Dessert Syrup S...   \n",
       "4     \"552138758\"  \"Stride Spark Kinetic Fruit Sugar Free Gum, 14...   \n",
       "..            ...                                                ...   \n",
       "95    \"527526119\"  \"Emerald Cocoa Roast Dark Chocolate Almonds - ...   \n",
       "96    \"807933739\"  \"Fiber One Chewy Bars Oats & Chocolate: 36 Bar...   \n",
       "97     \"46432804\"      \"Gerber Good Start Infant Formula Sample Box\"   \n",
       "98    \"518513658\"                            \"Cheese Wax 1 lb - Red\"   \n",
       "99    \"702537450\"  \"Gustaf’s Traditional Dutch Authentic Double S...   \n",
       "\n",
       "   product_category  star_rating  helpful_votes  total_votes     vine  \\\n",
       "0         \"Grocery\"            1              0            0  0 \\t(N)   \n",
       "1         \"Grocery\"            1              0            0  0 \\t(N)   \n",
       "2         \"Grocery\"            1              0            0  0 \\t(N)   \n",
       "3         \"Grocery\"            1              0            0  0 \\t(N)   \n",
       "4         \"Grocery\"            1              0            0  0 \\t(N)   \n",
       "..              ...          ...            ...          ...      ...   \n",
       "95        \"Grocery\"            1              0            0  0 \\t(N)   \n",
       "96        \"Grocery\"            1              2            3  0 \\t(N)   \n",
       "97        \"Grocery\"            0              0            0  0 \\t(N)   \n",
       "98        \"Grocery\"            1              0            0  0 \\t(N)   \n",
       "99        \"Grocery\"            0              0            5  0 \\t(N)   \n",
       "\n",
       "   verified_purchase                       review_headline  \\\n",
       "0            1 \\t(Y)  \"Using these for years - love them.\"   \n",
       "1            1 \\t(Y)                           \"Wonderful\"   \n",
       "2            0 \\t(N)                          \"Five Stars\"   \n",
       "3            1 \\t(Y)                          \"Five Stars\"   \n",
       "4            1 \\t(Y)                          \"Five Stars\"   \n",
       "..               ...                                   ...   \n",
       "95           1 \\t(Y)                          \"Five Stars\"   \n",
       "96           0 \\t(N)                   \"Very Satisfying!!\"   \n",
       "97           0 \\t(N)                        \"Okay formula\"   \n",
       "98           1 \\t(Y)                          \"Five Stars\"   \n",
       "99           1 \\t(Y)            \"It's actually TOO salty.\"   \n",
       "\n",
       "                                          review_body review_date  \\\n",
       "0   \"As a family allergic to wheat, dairy, eggs, n...  2015-08-31   \n",
       "1   \"My favorite nut. Creamy, crunchy, salty, and ...  2015-08-31   \n",
       "2   \"This green tea tastes so good! My girlfriend ...  2015-08-31   \n",
       "3   \"I love Melissa's brand but this is a great se...  2015-08-31   \n",
       "4                                              \"good\"  2015-08-31   \n",
       "..                                                ...         ...   \n",
       "95                                        \"Delicious\"  2015-08-31   \n",
       "96  \"I needed more fiber in my diet and decided to...  2015-08-31   \n",
       "97  \"Like most working moms, I can't pump enough t...  2015-08-31   \n",
       "98                                         \"Love it!\"  2015-08-31   \n",
       "99     \"Not what I expected. Did not like it at all.\"  2015-08-31   \n",
       "\n",
       "   Sentiment_grcry  \n",
       "0         positive  \n",
       "1         positive  \n",
       "2         positive  \n",
       "3         positive  \n",
       "4         positive  \n",
       "..             ...  \n",
       "95        positive  \n",
       "96        positive  \n",
       "97        negaitve  \n",
       "98        positive  \n",
       "99        negaitve  \n",
       "\n",
       "[100 rows x 17 columns]"
      ]
     },
     "execution_count": 3,
     "metadata": {},
     "output_type": "execute_result"
    }
   ],
   "source": [
    "df"
   ]
  },
  {
   "cell_type": "code",
   "execution_count": 4,
   "id": "7f2dcd3c",
   "metadata": {},
   "outputs": [
    {
     "data": {
      "text/plain": [
       "(100, 17)"
      ]
     },
     "execution_count": 4,
     "metadata": {},
     "output_type": "execute_result"
    }
   ],
   "source": [
    "df.shape"
   ]
  },
  {
   "cell_type": "code",
   "execution_count": 6,
   "id": "abd64323",
   "metadata": {},
   "outputs": [
    {
     "data": {
      "text/html": [
       "<div>\n",
       "<style scoped>\n",
       "    .dataframe tbody tr th:only-of-type {\n",
       "        vertical-align: middle;\n",
       "    }\n",
       "\n",
       "    .dataframe tbody tr th {\n",
       "        vertical-align: top;\n",
       "    }\n",
       "\n",
       "    .dataframe thead th {\n",
       "        text-align: right;\n",
       "    }\n",
       "</style>\n",
       "<table border=\"1\" class=\"dataframe\">\n",
       "  <thead>\n",
       "    <tr style=\"text-align: right;\">\n",
       "      <th></th>\n",
       "      <th>Unnamed: 0</th>\n",
       "      <th>market_place</th>\n",
       "      <th>customer_id</th>\n",
       "      <th>review_id</th>\n",
       "      <th>product_id</th>\n",
       "      <th>product_parent</th>\n",
       "      <th>product_title</th>\n",
       "      <th>product_category</th>\n",
       "      <th>star_rating</th>\n",
       "      <th>helpful_votes</th>\n",
       "      <th>total_votes</th>\n",
       "      <th>vine</th>\n",
       "      <th>verified_purchase</th>\n",
       "      <th>review_headline</th>\n",
       "      <th>review_body</th>\n",
       "      <th>review_date</th>\n",
       "      <th>Sentiment_grcry</th>\n",
       "    </tr>\n",
       "  </thead>\n",
       "  <tbody>\n",
       "    <tr>\n",
       "      <th>0</th>\n",
       "      <td>0</td>\n",
       "      <td>\"US\"</td>\n",
       "      <td>\"42521656\"</td>\n",
       "      <td>\"R26MV8D0KG6QI6\"</td>\n",
       "      <td>\"B000SAQCWC\"</td>\n",
       "      <td>\"159713740\"</td>\n",
       "      <td>\"The Cravings Place Chocolate Chunk Cookie Mix...</td>\n",
       "      <td>\"Grocery\"</td>\n",
       "      <td>1</td>\n",
       "      <td>0</td>\n",
       "      <td>0</td>\n",
       "      <td>0 \\t(N)</td>\n",
       "      <td>1 \\t(Y)</td>\n",
       "      <td>\"Using these for years - love them.\"</td>\n",
       "      <td>\"As a family allergic to wheat, dairy, eggs, n...</td>\n",
       "      <td>2015-08-31</td>\n",
       "      <td>positive</td>\n",
       "    </tr>\n",
       "    <tr>\n",
       "      <th>1</th>\n",
       "      <td>1</td>\n",
       "      <td>\"US\"</td>\n",
       "      <td>\"12049833\"</td>\n",
       "      <td>\"R1OF8GP57AQ1A0\"</td>\n",
       "      <td>\"B00509LVIQ\"</td>\n",
       "      <td>\"138680402\"</td>\n",
       "      <td>\"Mauna Loa Macadamias, 11 Ounce Packages\"</td>\n",
       "      <td>\"Grocery\"</td>\n",
       "      <td>1</td>\n",
       "      <td>0</td>\n",
       "      <td>0</td>\n",
       "      <td>0 \\t(N)</td>\n",
       "      <td>1 \\t(Y)</td>\n",
       "      <td>\"Wonderful\"</td>\n",
       "      <td>\"My favorite nut. Creamy, crunchy, salty, and ...</td>\n",
       "      <td>2015-08-31</td>\n",
       "      <td>positive</td>\n",
       "    </tr>\n",
       "    <tr>\n",
       "      <th>2</th>\n",
       "      <td>2</td>\n",
       "      <td>\"US\"</td>\n",
       "      <td>\"107642\"</td>\n",
       "      <td>\"R3VDC1QB6MC4ZZ\"</td>\n",
       "      <td>\"B00KHXESLC\"</td>\n",
       "      <td>\"252021703\"</td>\n",
       "      <td>\"Organic Matcha Green Tea Powder - 100% Pure M...</td>\n",
       "      <td>\"Grocery\"</td>\n",
       "      <td>1</td>\n",
       "      <td>0</td>\n",
       "      <td>0</td>\n",
       "      <td>0 \\t(N)</td>\n",
       "      <td>0 \\t(N)</td>\n",
       "      <td>\"Five Stars\"</td>\n",
       "      <td>\"This green tea tastes so good! My girlfriend ...</td>\n",
       "      <td>2015-08-31</td>\n",
       "      <td>positive</td>\n",
       "    </tr>\n",
       "    <tr>\n",
       "      <th>3</th>\n",
       "      <td>3</td>\n",
       "      <td>\"US\"</td>\n",
       "      <td>\"6042304\"</td>\n",
       "      <td>\"R12FA3DCF8F9ER\"</td>\n",
       "      <td>\"B000F8JIIC\"</td>\n",
       "      <td>\"752728342\"</td>\n",
       "      <td>\"15oz Raspberry Lyons Designer Dessert Syrup S...</td>\n",
       "      <td>\"Grocery\"</td>\n",
       "      <td>1</td>\n",
       "      <td>0</td>\n",
       "      <td>0</td>\n",
       "      <td>0 \\t(N)</td>\n",
       "      <td>1 \\t(Y)</td>\n",
       "      <td>\"Five Stars\"</td>\n",
       "      <td>\"I love Melissa's brand but this is a great se...</td>\n",
       "      <td>2015-08-31</td>\n",
       "      <td>positive</td>\n",
       "    </tr>\n",
       "    <tr>\n",
       "      <th>4</th>\n",
       "      <td>4</td>\n",
       "      <td>\"US\"</td>\n",
       "      <td>\"18123821\"</td>\n",
       "      <td>\"RTWHVNV6X4CNJ\"</td>\n",
       "      <td>\"B004ZWR9RQ\"</td>\n",
       "      <td>\"552138758\"</td>\n",
       "      <td>\"Stride Spark Kinetic Fruit Sugar Free Gum, 14...</td>\n",
       "      <td>\"Grocery\"</td>\n",
       "      <td>1</td>\n",
       "      <td>0</td>\n",
       "      <td>0</td>\n",
       "      <td>0 \\t(N)</td>\n",
       "      <td>1 \\t(Y)</td>\n",
       "      <td>\"Five Stars\"</td>\n",
       "      <td>\"good\"</td>\n",
       "      <td>2015-08-31</td>\n",
       "      <td>positive</td>\n",
       "    </tr>\n",
       "    <tr>\n",
       "      <th>...</th>\n",
       "      <td>...</td>\n",
       "      <td>...</td>\n",
       "      <td>...</td>\n",
       "      <td>...</td>\n",
       "      <td>...</td>\n",
       "      <td>...</td>\n",
       "      <td>...</td>\n",
       "      <td>...</td>\n",
       "      <td>...</td>\n",
       "      <td>...</td>\n",
       "      <td>...</td>\n",
       "      <td>...</td>\n",
       "      <td>...</td>\n",
       "      <td>...</td>\n",
       "      <td>...</td>\n",
       "      <td>...</td>\n",
       "      <td>...</td>\n",
       "    </tr>\n",
       "    <tr>\n",
       "      <th>95</th>\n",
       "      <td>95</td>\n",
       "      <td>\"US\"</td>\n",
       "      <td>\"41855640\"</td>\n",
       "      <td>\"R14RNK4F6OPVHI\"</td>\n",
       "      <td>\"B00MGDVYCM\"</td>\n",
       "      <td>\"527526119\"</td>\n",
       "      <td>\"Emerald Cocoa Roast Dark Chocolate Almonds - ...</td>\n",
       "      <td>\"Grocery\"</td>\n",
       "      <td>1</td>\n",
       "      <td>0</td>\n",
       "      <td>0</td>\n",
       "      <td>0 \\t(N)</td>\n",
       "      <td>1 \\t(Y)</td>\n",
       "      <td>\"Five Stars\"</td>\n",
       "      <td>\"Delicious\"</td>\n",
       "      <td>2015-08-31</td>\n",
       "      <td>positive</td>\n",
       "    </tr>\n",
       "    <tr>\n",
       "      <th>96</th>\n",
       "      <td>96</td>\n",
       "      <td>\"US\"</td>\n",
       "      <td>\"13730310\"</td>\n",
       "      <td>\"R29XUIKKYB1SVA\"</td>\n",
       "      <td>\"B00NESWWIS\"</td>\n",
       "      <td>\"807933739\"</td>\n",
       "      <td>\"Fiber One Chewy Bars Oats &amp; Chocolate: 36 Bar...</td>\n",
       "      <td>\"Grocery\"</td>\n",
       "      <td>1</td>\n",
       "      <td>2</td>\n",
       "      <td>3</td>\n",
       "      <td>0 \\t(N)</td>\n",
       "      <td>0 \\t(N)</td>\n",
       "      <td>\"Very Satisfying!!\"</td>\n",
       "      <td>\"I needed more fiber in my diet and decided to...</td>\n",
       "      <td>2015-08-31</td>\n",
       "      <td>positive</td>\n",
       "    </tr>\n",
       "    <tr>\n",
       "      <th>97</th>\n",
       "      <td>97</td>\n",
       "      <td>\"US\"</td>\n",
       "      <td>\"48872127\"</td>\n",
       "      <td>\"R22YPES48XVR9Z\"</td>\n",
       "      <td>\"B00O8SQTIM\"</td>\n",
       "      <td>\"46432804\"</td>\n",
       "      <td>\"Gerber Good Start Infant Formula Sample Box\"</td>\n",
       "      <td>\"Grocery\"</td>\n",
       "      <td>0</td>\n",
       "      <td>0</td>\n",
       "      <td>0</td>\n",
       "      <td>0 \\t(N)</td>\n",
       "      <td>0 \\t(N)</td>\n",
       "      <td>\"Okay formula\"</td>\n",
       "      <td>\"Like most working moms, I can't pump enough t...</td>\n",
       "      <td>2015-08-31</td>\n",
       "      <td>negaitve</td>\n",
       "    </tr>\n",
       "    <tr>\n",
       "      <th>98</th>\n",
       "      <td>98</td>\n",
       "      <td>\"US\"</td>\n",
       "      <td>\"12859252\"</td>\n",
       "      <td>\"RTL7D7ONFKQTO\"</td>\n",
       "      <td>\"B0064OLVFY\"</td>\n",
       "      <td>\"518513658\"</td>\n",
       "      <td>\"Cheese Wax 1 lb - Red\"</td>\n",
       "      <td>\"Grocery\"</td>\n",
       "      <td>1</td>\n",
       "      <td>0</td>\n",
       "      <td>0</td>\n",
       "      <td>0 \\t(N)</td>\n",
       "      <td>1 \\t(Y)</td>\n",
       "      <td>\"Five Stars\"</td>\n",
       "      <td>\"Love it!\"</td>\n",
       "      <td>2015-08-31</td>\n",
       "      <td>positive</td>\n",
       "    </tr>\n",
       "    <tr>\n",
       "      <th>99</th>\n",
       "      <td>99</td>\n",
       "      <td>\"US\"</td>\n",
       "      <td>\"33828780\"</td>\n",
       "      <td>\"R2B9WKQP7ZZVPQ\"</td>\n",
       "      <td>\"B006ONNLNA\"</td>\n",
       "      <td>\"702537450\"</td>\n",
       "      <td>\"Gustaf’s Traditional Dutch Authentic Double S...</td>\n",
       "      <td>\"Grocery\"</td>\n",
       "      <td>0</td>\n",
       "      <td>0</td>\n",
       "      <td>5</td>\n",
       "      <td>0 \\t(N)</td>\n",
       "      <td>1 \\t(Y)</td>\n",
       "      <td>\"It's actually TOO salty.\"</td>\n",
       "      <td>\"Not what I expected. Did not like it at all.\"</td>\n",
       "      <td>2015-08-31</td>\n",
       "      <td>negaitve</td>\n",
       "    </tr>\n",
       "  </tbody>\n",
       "</table>\n",
       "<p>100 rows × 17 columns</p>\n",
       "</div>"
      ],
      "text/plain": [
       "    Unnamed: 0 market_place customer_id         review_id    product_id  \\\n",
       "0            0         \"US\"  \"42521656\"  \"R26MV8D0KG6QI6\"  \"B000SAQCWC\"   \n",
       "1            1         \"US\"  \"12049833\"  \"R1OF8GP57AQ1A0\"  \"B00509LVIQ\"   \n",
       "2            2         \"US\"    \"107642\"  \"R3VDC1QB6MC4ZZ\"  \"B00KHXESLC\"   \n",
       "3            3         \"US\"   \"6042304\"  \"R12FA3DCF8F9ER\"  \"B000F8JIIC\"   \n",
       "4            4         \"US\"  \"18123821\"   \"RTWHVNV6X4CNJ\"  \"B004ZWR9RQ\"   \n",
       "..         ...          ...         ...               ...           ...   \n",
       "95          95         \"US\"  \"41855640\"  \"R14RNK4F6OPVHI\"  \"B00MGDVYCM\"   \n",
       "96          96         \"US\"  \"13730310\"  \"R29XUIKKYB1SVA\"  \"B00NESWWIS\"   \n",
       "97          97         \"US\"  \"48872127\"  \"R22YPES48XVR9Z\"  \"B00O8SQTIM\"   \n",
       "98          98         \"US\"  \"12859252\"   \"RTL7D7ONFKQTO\"  \"B0064OLVFY\"   \n",
       "99          99         \"US\"  \"33828780\"  \"R2B9WKQP7ZZVPQ\"  \"B006ONNLNA\"   \n",
       "\n",
       "   product_parent                                      product_title  \\\n",
       "0     \"159713740\"  \"The Cravings Place Chocolate Chunk Cookie Mix...   \n",
       "1     \"138680402\"          \"Mauna Loa Macadamias, 11 Ounce Packages\"   \n",
       "2     \"252021703\"  \"Organic Matcha Green Tea Powder - 100% Pure M...   \n",
       "3     \"752728342\"  \"15oz Raspberry Lyons Designer Dessert Syrup S...   \n",
       "4     \"552138758\"  \"Stride Spark Kinetic Fruit Sugar Free Gum, 14...   \n",
       "..            ...                                                ...   \n",
       "95    \"527526119\"  \"Emerald Cocoa Roast Dark Chocolate Almonds - ...   \n",
       "96    \"807933739\"  \"Fiber One Chewy Bars Oats & Chocolate: 36 Bar...   \n",
       "97     \"46432804\"      \"Gerber Good Start Infant Formula Sample Box\"   \n",
       "98    \"518513658\"                            \"Cheese Wax 1 lb - Red\"   \n",
       "99    \"702537450\"  \"Gustaf’s Traditional Dutch Authentic Double S...   \n",
       "\n",
       "   product_category  star_rating  helpful_votes  total_votes     vine  \\\n",
       "0         \"Grocery\"            1              0            0  0 \\t(N)   \n",
       "1         \"Grocery\"            1              0            0  0 \\t(N)   \n",
       "2         \"Grocery\"            1              0            0  0 \\t(N)   \n",
       "3         \"Grocery\"            1              0            0  0 \\t(N)   \n",
       "4         \"Grocery\"            1              0            0  0 \\t(N)   \n",
       "..              ...          ...            ...          ...      ...   \n",
       "95        \"Grocery\"            1              0            0  0 \\t(N)   \n",
       "96        \"Grocery\"            1              2            3  0 \\t(N)   \n",
       "97        \"Grocery\"            0              0            0  0 \\t(N)   \n",
       "98        \"Grocery\"            1              0            0  0 \\t(N)   \n",
       "99        \"Grocery\"            0              0            5  0 \\t(N)   \n",
       "\n",
       "   verified_purchase                       review_headline  \\\n",
       "0            1 \\t(Y)  \"Using these for years - love them.\"   \n",
       "1            1 \\t(Y)                           \"Wonderful\"   \n",
       "2            0 \\t(N)                          \"Five Stars\"   \n",
       "3            1 \\t(Y)                          \"Five Stars\"   \n",
       "4            1 \\t(Y)                          \"Five Stars\"   \n",
       "..               ...                                   ...   \n",
       "95           1 \\t(Y)                          \"Five Stars\"   \n",
       "96           0 \\t(N)                   \"Very Satisfying!!\"   \n",
       "97           0 \\t(N)                        \"Okay formula\"   \n",
       "98           1 \\t(Y)                          \"Five Stars\"   \n",
       "99           1 \\t(Y)            \"It's actually TOO salty.\"   \n",
       "\n",
       "                                          review_body review_date  \\\n",
       "0   \"As a family allergic to wheat, dairy, eggs, n...  2015-08-31   \n",
       "1   \"My favorite nut. Creamy, crunchy, salty, and ...  2015-08-31   \n",
       "2   \"This green tea tastes so good! My girlfriend ...  2015-08-31   \n",
       "3   \"I love Melissa's brand but this is a great se...  2015-08-31   \n",
       "4                                              \"good\"  2015-08-31   \n",
       "..                                                ...         ...   \n",
       "95                                        \"Delicious\"  2015-08-31   \n",
       "96  \"I needed more fiber in my diet and decided to...  2015-08-31   \n",
       "97  \"Like most working moms, I can't pump enough t...  2015-08-31   \n",
       "98                                         \"Love it!\"  2015-08-31   \n",
       "99     \"Not what I expected. Did not like it at all.\"  2015-08-31   \n",
       "\n",
       "   Sentiment_grcry  \n",
       "0         positive  \n",
       "1         positive  \n",
       "2         positive  \n",
       "3         positive  \n",
       "4         positive  \n",
       "..             ...  \n",
       "95        positive  \n",
       "96        positive  \n",
       "97        negaitve  \n",
       "98        positive  \n",
       "99        negaitve  \n",
       "\n",
       "[100 rows x 17 columns]"
      ]
     },
     "execution_count": 6,
     "metadata": {},
     "output_type": "execute_result"
    }
   ],
   "source": [
    "df"
   ]
  },
  {
   "cell_type": "markdown",
   "id": "0c49f3d4",
   "metadata": {},
   "source": [
    "From above we can see that there are 17 columns and 100 rows in the data."
   ]
  },
  {
   "cell_type": "code",
   "execution_count": 7,
   "id": "088cd9c0",
   "metadata": {},
   "outputs": [
    {
     "data": {
      "text/html": [
       "<div>\n",
       "<style scoped>\n",
       "    .dataframe tbody tr th:only-of-type {\n",
       "        vertical-align: middle;\n",
       "    }\n",
       "\n",
       "    .dataframe tbody tr th {\n",
       "        vertical-align: top;\n",
       "    }\n",
       "\n",
       "    .dataframe thead th {\n",
       "        text-align: right;\n",
       "    }\n",
       "</style>\n",
       "<table border=\"1\" class=\"dataframe\">\n",
       "  <thead>\n",
       "    <tr style=\"text-align: right;\">\n",
       "      <th></th>\n",
       "      <th>Unnamed: 0</th>\n",
       "      <th>market_place</th>\n",
       "      <th>customer_id</th>\n",
       "      <th>review_id</th>\n",
       "      <th>product_id</th>\n",
       "      <th>product_parent</th>\n",
       "      <th>product_title</th>\n",
       "      <th>product_category</th>\n",
       "      <th>star_rating</th>\n",
       "      <th>helpful_votes</th>\n",
       "      <th>total_votes</th>\n",
       "      <th>vine</th>\n",
       "      <th>verified_purchase</th>\n",
       "      <th>review_headline</th>\n",
       "      <th>review_body</th>\n",
       "      <th>review_date</th>\n",
       "      <th>Sentiment_grcry</th>\n",
       "    </tr>\n",
       "  </thead>\n",
       "  <tbody>\n",
       "    <tr>\n",
       "      <th>0</th>\n",
       "      <td>0</td>\n",
       "      <td>\"US\"</td>\n",
       "      <td>\"42521656\"</td>\n",
       "      <td>\"R26MV8D0KG6QI6\"</td>\n",
       "      <td>\"B000SAQCWC\"</td>\n",
       "      <td>\"159713740\"</td>\n",
       "      <td>\"The Cravings Place Chocolate Chunk Cookie Mix...</td>\n",
       "      <td>\"Grocery\"</td>\n",
       "      <td>1</td>\n",
       "      <td>0</td>\n",
       "      <td>0</td>\n",
       "      <td>0 \\t(N)</td>\n",
       "      <td>1 \\t(Y)</td>\n",
       "      <td>\"Using these for years - love them.\"</td>\n",
       "      <td>\"As a family allergic to wheat, dairy, eggs, n...</td>\n",
       "      <td>2015-08-31</td>\n",
       "      <td>positive</td>\n",
       "    </tr>\n",
       "    <tr>\n",
       "      <th>1</th>\n",
       "      <td>1</td>\n",
       "      <td>\"US\"</td>\n",
       "      <td>\"12049833\"</td>\n",
       "      <td>\"R1OF8GP57AQ1A0\"</td>\n",
       "      <td>\"B00509LVIQ\"</td>\n",
       "      <td>\"138680402\"</td>\n",
       "      <td>\"Mauna Loa Macadamias, 11 Ounce Packages\"</td>\n",
       "      <td>\"Grocery\"</td>\n",
       "      <td>1</td>\n",
       "      <td>0</td>\n",
       "      <td>0</td>\n",
       "      <td>0 \\t(N)</td>\n",
       "      <td>1 \\t(Y)</td>\n",
       "      <td>\"Wonderful\"</td>\n",
       "      <td>\"My favorite nut. Creamy, crunchy, salty, and ...</td>\n",
       "      <td>2015-08-31</td>\n",
       "      <td>positive</td>\n",
       "    </tr>\n",
       "    <tr>\n",
       "      <th>2</th>\n",
       "      <td>2</td>\n",
       "      <td>\"US\"</td>\n",
       "      <td>\"107642\"</td>\n",
       "      <td>\"R3VDC1QB6MC4ZZ\"</td>\n",
       "      <td>\"B00KHXESLC\"</td>\n",
       "      <td>\"252021703\"</td>\n",
       "      <td>\"Organic Matcha Green Tea Powder - 100% Pure M...</td>\n",
       "      <td>\"Grocery\"</td>\n",
       "      <td>1</td>\n",
       "      <td>0</td>\n",
       "      <td>0</td>\n",
       "      <td>0 \\t(N)</td>\n",
       "      <td>0 \\t(N)</td>\n",
       "      <td>\"Five Stars\"</td>\n",
       "      <td>\"This green tea tastes so good! My girlfriend ...</td>\n",
       "      <td>2015-08-31</td>\n",
       "      <td>positive</td>\n",
       "    </tr>\n",
       "    <tr>\n",
       "      <th>3</th>\n",
       "      <td>3</td>\n",
       "      <td>\"US\"</td>\n",
       "      <td>\"6042304\"</td>\n",
       "      <td>\"R12FA3DCF8F9ER\"</td>\n",
       "      <td>\"B000F8JIIC\"</td>\n",
       "      <td>\"752728342\"</td>\n",
       "      <td>\"15oz Raspberry Lyons Designer Dessert Syrup S...</td>\n",
       "      <td>\"Grocery\"</td>\n",
       "      <td>1</td>\n",
       "      <td>0</td>\n",
       "      <td>0</td>\n",
       "      <td>0 \\t(N)</td>\n",
       "      <td>1 \\t(Y)</td>\n",
       "      <td>\"Five Stars\"</td>\n",
       "      <td>\"I love Melissa's brand but this is a great se...</td>\n",
       "      <td>2015-08-31</td>\n",
       "      <td>positive</td>\n",
       "    </tr>\n",
       "    <tr>\n",
       "      <th>4</th>\n",
       "      <td>4</td>\n",
       "      <td>\"US\"</td>\n",
       "      <td>\"18123821\"</td>\n",
       "      <td>\"RTWHVNV6X4CNJ\"</td>\n",
       "      <td>\"B004ZWR9RQ\"</td>\n",
       "      <td>\"552138758\"</td>\n",
       "      <td>\"Stride Spark Kinetic Fruit Sugar Free Gum, 14...</td>\n",
       "      <td>\"Grocery\"</td>\n",
       "      <td>1</td>\n",
       "      <td>0</td>\n",
       "      <td>0</td>\n",
       "      <td>0 \\t(N)</td>\n",
       "      <td>1 \\t(Y)</td>\n",
       "      <td>\"Five Stars\"</td>\n",
       "      <td>\"good\"</td>\n",
       "      <td>2015-08-31</td>\n",
       "      <td>positive</td>\n",
       "    </tr>\n",
       "  </tbody>\n",
       "</table>\n",
       "</div>"
      ],
      "text/plain": [
       "   Unnamed: 0 market_place customer_id         review_id    product_id  \\\n",
       "0           0         \"US\"  \"42521656\"  \"R26MV8D0KG6QI6\"  \"B000SAQCWC\"   \n",
       "1           1         \"US\"  \"12049833\"  \"R1OF8GP57AQ1A0\"  \"B00509LVIQ\"   \n",
       "2           2         \"US\"    \"107642\"  \"R3VDC1QB6MC4ZZ\"  \"B00KHXESLC\"   \n",
       "3           3         \"US\"   \"6042304\"  \"R12FA3DCF8F9ER\"  \"B000F8JIIC\"   \n",
       "4           4         \"US\"  \"18123821\"   \"RTWHVNV6X4CNJ\"  \"B004ZWR9RQ\"   \n",
       "\n",
       "  product_parent                                      product_title  \\\n",
       "0    \"159713740\"  \"The Cravings Place Chocolate Chunk Cookie Mix...   \n",
       "1    \"138680402\"          \"Mauna Loa Macadamias, 11 Ounce Packages\"   \n",
       "2    \"252021703\"  \"Organic Matcha Green Tea Powder - 100% Pure M...   \n",
       "3    \"752728342\"  \"15oz Raspberry Lyons Designer Dessert Syrup S...   \n",
       "4    \"552138758\"  \"Stride Spark Kinetic Fruit Sugar Free Gum, 14...   \n",
       "\n",
       "  product_category  star_rating  helpful_votes  total_votes     vine  \\\n",
       "0        \"Grocery\"            1              0            0  0 \\t(N)   \n",
       "1        \"Grocery\"            1              0            0  0 \\t(N)   \n",
       "2        \"Grocery\"            1              0            0  0 \\t(N)   \n",
       "3        \"Grocery\"            1              0            0  0 \\t(N)   \n",
       "4        \"Grocery\"            1              0            0  0 \\t(N)   \n",
       "\n",
       "  verified_purchase                       review_headline  \\\n",
       "0           1 \\t(Y)  \"Using these for years - love them.\"   \n",
       "1           1 \\t(Y)                           \"Wonderful\"   \n",
       "2           0 \\t(N)                          \"Five Stars\"   \n",
       "3           1 \\t(Y)                          \"Five Stars\"   \n",
       "4           1 \\t(Y)                          \"Five Stars\"   \n",
       "\n",
       "                                         review_body review_date  \\\n",
       "0  \"As a family allergic to wheat, dairy, eggs, n...  2015-08-31   \n",
       "1  \"My favorite nut. Creamy, crunchy, salty, and ...  2015-08-31   \n",
       "2  \"This green tea tastes so good! My girlfriend ...  2015-08-31   \n",
       "3  \"I love Melissa's brand but this is a great se...  2015-08-31   \n",
       "4                                             \"good\"  2015-08-31   \n",
       "\n",
       "  Sentiment_grcry  \n",
       "0        positive  \n",
       "1        positive  \n",
       "2        positive  \n",
       "3        positive  \n",
       "4        positive  "
      ]
     },
     "execution_count": 7,
     "metadata": {},
     "output_type": "execute_result"
    }
   ],
   "source": [
    "#Read top 5 rows\n",
    "df.head()"
   ]
  },
  {
   "cell_type": "code",
   "execution_count": 8,
   "id": "6caa5400",
   "metadata": {},
   "outputs": [
    {
     "data": {
      "text/html": [
       "<div>\n",
       "<style scoped>\n",
       "    .dataframe tbody tr th:only-of-type {\n",
       "        vertical-align: middle;\n",
       "    }\n",
       "\n",
       "    .dataframe tbody tr th {\n",
       "        vertical-align: top;\n",
       "    }\n",
       "\n",
       "    .dataframe thead th {\n",
       "        text-align: right;\n",
       "    }\n",
       "</style>\n",
       "<table border=\"1\" class=\"dataframe\">\n",
       "  <thead>\n",
       "    <tr style=\"text-align: right;\">\n",
       "      <th></th>\n",
       "      <th>Unnamed: 0</th>\n",
       "      <th>market_place</th>\n",
       "      <th>customer_id</th>\n",
       "      <th>review_id</th>\n",
       "      <th>product_id</th>\n",
       "      <th>product_parent</th>\n",
       "      <th>product_title</th>\n",
       "      <th>product_category</th>\n",
       "      <th>star_rating</th>\n",
       "      <th>helpful_votes</th>\n",
       "      <th>total_votes</th>\n",
       "      <th>vine</th>\n",
       "      <th>verified_purchase</th>\n",
       "      <th>review_headline</th>\n",
       "      <th>review_body</th>\n",
       "      <th>review_date</th>\n",
       "      <th>Sentiment_grcry</th>\n",
       "    </tr>\n",
       "  </thead>\n",
       "  <tbody>\n",
       "    <tr>\n",
       "      <th>95</th>\n",
       "      <td>95</td>\n",
       "      <td>\"US\"</td>\n",
       "      <td>\"41855640\"</td>\n",
       "      <td>\"R14RNK4F6OPVHI\"</td>\n",
       "      <td>\"B00MGDVYCM\"</td>\n",
       "      <td>\"527526119\"</td>\n",
       "      <td>\"Emerald Cocoa Roast Dark Chocolate Almonds - ...</td>\n",
       "      <td>\"Grocery\"</td>\n",
       "      <td>1</td>\n",
       "      <td>0</td>\n",
       "      <td>0</td>\n",
       "      <td>0 \\t(N)</td>\n",
       "      <td>1 \\t(Y)</td>\n",
       "      <td>\"Five Stars\"</td>\n",
       "      <td>\"Delicious\"</td>\n",
       "      <td>2015-08-31</td>\n",
       "      <td>positive</td>\n",
       "    </tr>\n",
       "    <tr>\n",
       "      <th>96</th>\n",
       "      <td>96</td>\n",
       "      <td>\"US\"</td>\n",
       "      <td>\"13730310\"</td>\n",
       "      <td>\"R29XUIKKYB1SVA\"</td>\n",
       "      <td>\"B00NESWWIS\"</td>\n",
       "      <td>\"807933739\"</td>\n",
       "      <td>\"Fiber One Chewy Bars Oats &amp; Chocolate: 36 Bar...</td>\n",
       "      <td>\"Grocery\"</td>\n",
       "      <td>1</td>\n",
       "      <td>2</td>\n",
       "      <td>3</td>\n",
       "      <td>0 \\t(N)</td>\n",
       "      <td>0 \\t(N)</td>\n",
       "      <td>\"Very Satisfying!!\"</td>\n",
       "      <td>\"I needed more fiber in my diet and decided to...</td>\n",
       "      <td>2015-08-31</td>\n",
       "      <td>positive</td>\n",
       "    </tr>\n",
       "    <tr>\n",
       "      <th>97</th>\n",
       "      <td>97</td>\n",
       "      <td>\"US\"</td>\n",
       "      <td>\"48872127\"</td>\n",
       "      <td>\"R22YPES48XVR9Z\"</td>\n",
       "      <td>\"B00O8SQTIM\"</td>\n",
       "      <td>\"46432804\"</td>\n",
       "      <td>\"Gerber Good Start Infant Formula Sample Box\"</td>\n",
       "      <td>\"Grocery\"</td>\n",
       "      <td>0</td>\n",
       "      <td>0</td>\n",
       "      <td>0</td>\n",
       "      <td>0 \\t(N)</td>\n",
       "      <td>0 \\t(N)</td>\n",
       "      <td>\"Okay formula\"</td>\n",
       "      <td>\"Like most working moms, I can't pump enough t...</td>\n",
       "      <td>2015-08-31</td>\n",
       "      <td>negaitve</td>\n",
       "    </tr>\n",
       "    <tr>\n",
       "      <th>98</th>\n",
       "      <td>98</td>\n",
       "      <td>\"US\"</td>\n",
       "      <td>\"12859252\"</td>\n",
       "      <td>\"RTL7D7ONFKQTO\"</td>\n",
       "      <td>\"B0064OLVFY\"</td>\n",
       "      <td>\"518513658\"</td>\n",
       "      <td>\"Cheese Wax 1 lb - Red\"</td>\n",
       "      <td>\"Grocery\"</td>\n",
       "      <td>1</td>\n",
       "      <td>0</td>\n",
       "      <td>0</td>\n",
       "      <td>0 \\t(N)</td>\n",
       "      <td>1 \\t(Y)</td>\n",
       "      <td>\"Five Stars\"</td>\n",
       "      <td>\"Love it!\"</td>\n",
       "      <td>2015-08-31</td>\n",
       "      <td>positive</td>\n",
       "    </tr>\n",
       "    <tr>\n",
       "      <th>99</th>\n",
       "      <td>99</td>\n",
       "      <td>\"US\"</td>\n",
       "      <td>\"33828780\"</td>\n",
       "      <td>\"R2B9WKQP7ZZVPQ\"</td>\n",
       "      <td>\"B006ONNLNA\"</td>\n",
       "      <td>\"702537450\"</td>\n",
       "      <td>\"Gustaf’s Traditional Dutch Authentic Double S...</td>\n",
       "      <td>\"Grocery\"</td>\n",
       "      <td>0</td>\n",
       "      <td>0</td>\n",
       "      <td>5</td>\n",
       "      <td>0 \\t(N)</td>\n",
       "      <td>1 \\t(Y)</td>\n",
       "      <td>\"It's actually TOO salty.\"</td>\n",
       "      <td>\"Not what I expected. Did not like it at all.\"</td>\n",
       "      <td>2015-08-31</td>\n",
       "      <td>negaitve</td>\n",
       "    </tr>\n",
       "  </tbody>\n",
       "</table>\n",
       "</div>"
      ],
      "text/plain": [
       "    Unnamed: 0 market_place customer_id         review_id    product_id  \\\n",
       "95          95         \"US\"  \"41855640\"  \"R14RNK4F6OPVHI\"  \"B00MGDVYCM\"   \n",
       "96          96         \"US\"  \"13730310\"  \"R29XUIKKYB1SVA\"  \"B00NESWWIS\"   \n",
       "97          97         \"US\"  \"48872127\"  \"R22YPES48XVR9Z\"  \"B00O8SQTIM\"   \n",
       "98          98         \"US\"  \"12859252\"   \"RTL7D7ONFKQTO\"  \"B0064OLVFY\"   \n",
       "99          99         \"US\"  \"33828780\"  \"R2B9WKQP7ZZVPQ\"  \"B006ONNLNA\"   \n",
       "\n",
       "   product_parent                                      product_title  \\\n",
       "95    \"527526119\"  \"Emerald Cocoa Roast Dark Chocolate Almonds - ...   \n",
       "96    \"807933739\"  \"Fiber One Chewy Bars Oats & Chocolate: 36 Bar...   \n",
       "97     \"46432804\"      \"Gerber Good Start Infant Formula Sample Box\"   \n",
       "98    \"518513658\"                            \"Cheese Wax 1 lb - Red\"   \n",
       "99    \"702537450\"  \"Gustaf’s Traditional Dutch Authentic Double S...   \n",
       "\n",
       "   product_category  star_rating  helpful_votes  total_votes     vine  \\\n",
       "95        \"Grocery\"            1              0            0  0 \\t(N)   \n",
       "96        \"Grocery\"            1              2            3  0 \\t(N)   \n",
       "97        \"Grocery\"            0              0            0  0 \\t(N)   \n",
       "98        \"Grocery\"            1              0            0  0 \\t(N)   \n",
       "99        \"Grocery\"            0              0            5  0 \\t(N)   \n",
       "\n",
       "   verified_purchase             review_headline  \\\n",
       "95           1 \\t(Y)                \"Five Stars\"   \n",
       "96           0 \\t(N)         \"Very Satisfying!!\"   \n",
       "97           0 \\t(N)              \"Okay formula\"   \n",
       "98           1 \\t(Y)                \"Five Stars\"   \n",
       "99           1 \\t(Y)  \"It's actually TOO salty.\"   \n",
       "\n",
       "                                          review_body review_date  \\\n",
       "95                                        \"Delicious\"  2015-08-31   \n",
       "96  \"I needed more fiber in my diet and decided to...  2015-08-31   \n",
       "97  \"Like most working moms, I can't pump enough t...  2015-08-31   \n",
       "98                                         \"Love it!\"  2015-08-31   \n",
       "99     \"Not what I expected. Did not like it at all.\"  2015-08-31   \n",
       "\n",
       "   Sentiment_grcry  \n",
       "95        positive  \n",
       "96        positive  \n",
       "97        negaitve  \n",
       "98        positive  \n",
       "99        negaitve  "
      ]
     },
     "execution_count": 8,
     "metadata": {},
     "output_type": "execute_result"
    }
   ],
   "source": [
    "#Read last 5Rows\n",
    "df.tail()"
   ]
  },
  {
   "cell_type": "markdown",
   "id": "741d4e02",
   "metadata": {},
   "source": [
    "### Remove columns which are not Useful"
   ]
  },
  {
   "cell_type": "code",
   "execution_count": 9,
   "id": "71d6b2ba",
   "metadata": {},
   "outputs": [
    {
     "data": {
      "text/plain": [
       "Index(['Unnamed: 0', 'market_place', 'customer_id', 'review_id', 'product_id',\n",
       "       'product_parent', 'product_title', 'product_category', 'star_rating',\n",
       "       'helpful_votes', 'total_votes', 'vine', 'verified_purchase',\n",
       "       'review_headline', 'review_body', 'review_date', 'Sentiment_grcry'],\n",
       "      dtype='object')"
      ]
     },
     "execution_count": 9,
     "metadata": {},
     "output_type": "execute_result"
    }
   ],
   "source": [
    "df.columns"
   ]
  },
  {
   "cell_type": "markdown",
   "id": "bc38ea36",
   "metadata": {},
   "source": [
    "#### As it can be seen that we do have 2 index columns in the dataframe we can remove Unnamed: 0."
   ]
  },
  {
   "cell_type": "code",
   "execution_count": 10,
   "id": "21c16580",
   "metadata": {},
   "outputs": [],
   "source": [
    "df.drop('Unnamed: 0',inplace=True, axis=1)"
   ]
  },
  {
   "cell_type": "code",
   "execution_count": 11,
   "id": "fa94020a",
   "metadata": {},
   "outputs": [
    {
     "data": {
      "text/html": [
       "<div>\n",
       "<style scoped>\n",
       "    .dataframe tbody tr th:only-of-type {\n",
       "        vertical-align: middle;\n",
       "    }\n",
       "\n",
       "    .dataframe tbody tr th {\n",
       "        vertical-align: top;\n",
       "    }\n",
       "\n",
       "    .dataframe thead th {\n",
       "        text-align: right;\n",
       "    }\n",
       "</style>\n",
       "<table border=\"1\" class=\"dataframe\">\n",
       "  <thead>\n",
       "    <tr style=\"text-align: right;\">\n",
       "      <th></th>\n",
       "      <th>market_place</th>\n",
       "      <th>customer_id</th>\n",
       "      <th>review_id</th>\n",
       "      <th>product_id</th>\n",
       "      <th>product_parent</th>\n",
       "      <th>product_title</th>\n",
       "      <th>product_category</th>\n",
       "      <th>star_rating</th>\n",
       "      <th>helpful_votes</th>\n",
       "      <th>total_votes</th>\n",
       "      <th>vine</th>\n",
       "      <th>verified_purchase</th>\n",
       "      <th>review_headline</th>\n",
       "      <th>review_body</th>\n",
       "      <th>review_date</th>\n",
       "      <th>Sentiment_grcry</th>\n",
       "    </tr>\n",
       "  </thead>\n",
       "  <tbody>\n",
       "    <tr>\n",
       "      <th>73</th>\n",
       "      <td>\"US\"</td>\n",
       "      <td>\"50322533\"</td>\n",
       "      <td>\"R3JXJN32XTD9IE\"</td>\n",
       "      <td>\"B007TKX5I8\"</td>\n",
       "      <td>\"899642341\"</td>\n",
       "      <td>\"Sorbee Sugar Free Assorted Wild Fruit Lollypo...</td>\n",
       "      <td>\"Grocery\"</td>\n",
       "      <td>0</td>\n",
       "      <td>1</td>\n",
       "      <td>1</td>\n",
       "      <td>0 \\t(N)</td>\n",
       "      <td>1 \\t(Y)</td>\n",
       "      <td>\"Tasty but too pricey\"</td>\n",
       "      <td>\"These are really delish. They don't just tast...</td>\n",
       "      <td>2015-08-31</td>\n",
       "      <td>negaitve</td>\n",
       "    </tr>\n",
       "  </tbody>\n",
       "</table>\n",
       "</div>"
      ],
      "text/plain": [
       "   market_place customer_id         review_id    product_id product_parent  \\\n",
       "73         \"US\"  \"50322533\"  \"R3JXJN32XTD9IE\"  \"B007TKX5I8\"    \"899642341\"   \n",
       "\n",
       "                                        product_title product_category  \\\n",
       "73  \"Sorbee Sugar Free Assorted Wild Fruit Lollypo...        \"Grocery\"   \n",
       "\n",
       "    star_rating  helpful_votes  total_votes     vine verified_purchase  \\\n",
       "73            0              1            1  0 \\t(N)           1 \\t(Y)   \n",
       "\n",
       "           review_headline                                        review_body  \\\n",
       "73  \"Tasty but too pricey\"  \"These are really delish. They don't just tast...   \n",
       "\n",
       "   review_date Sentiment_grcry  \n",
       "73  2015-08-31        negaitve  "
      ]
     },
     "execution_count": 11,
     "metadata": {},
     "output_type": "execute_result"
    }
   ],
   "source": [
    "df.sample()"
   ]
  },
  {
   "cell_type": "raw",
   "id": "edae6776",
   "metadata": {},
   "source": [
    "1. We can see 'US'is only entry in the market_place Hence we can say this data belongs to only US market hence no need to maintain this in Analysis                                                                                                    2. As review_id belongs to unique values hence there is no corelation between any of the variables so we can drop it.        3. Product_id & product_parent have unique values as every product is different so it wont work, hence can drop the columns.        \n",
    "4. vine is Mix of numerical and text data and also same i.e '0 \\t(N)' and it will not be useful in analysis hence deleting  5. As Review headline and review body are textual columns and it might ot be useful hence deleting both."
   ]
  },
  {
   "cell_type": "code",
   "execution_count": 12,
   "id": "7b13c6b0",
   "metadata": {},
   "outputs": [],
   "source": [
    "df.drop(columns=['market_place','review_id','product_id','vine','product_parent','review_headline','review_body'],inplace=True)"
   ]
  },
  {
   "cell_type": "raw",
   "id": "0f171fd8",
   "metadata": {},
   "source": [
    "We can also remove product_category as it is only grocery "
   ]
  },
  {
   "cell_type": "code",
   "execution_count": 13,
   "id": "98c75be2",
   "metadata": {},
   "outputs": [],
   "source": [
    "df.drop('product_category',inplace= True, axis=1)"
   ]
  },
  {
   "cell_type": "code",
   "execution_count": 14,
   "id": "87ee17d4",
   "metadata": {},
   "outputs": [
    {
     "data": {
      "text/plain": [
       "(100, 8)"
      ]
     },
     "execution_count": 14,
     "metadata": {},
     "output_type": "execute_result"
    }
   ],
   "source": [
    "df.shape"
   ]
  },
  {
   "cell_type": "markdown",
   "id": "e48a7c45",
   "metadata": {},
   "source": [
    "### Finding Duplicate entries"
   ]
  },
  {
   "cell_type": "code",
   "execution_count": 15,
   "id": "0e58ea3e",
   "metadata": {},
   "outputs": [
    {
     "data": {
      "text/plain": [
       "customer_id          99\n",
       "product_title        98\n",
       "star_rating           2\n",
       "helpful_votes         6\n",
       "total_votes           7\n",
       "verified_purchase     2\n",
       "review_date           1\n",
       "Sentiment_grcry       2\n",
       "dtype: int64"
      ]
     },
     "execution_count": 15,
     "metadata": {},
     "output_type": "execute_result"
    }
   ],
   "source": [
    "#Finding the unique records in each columns\n",
    "df.nunique()"
   ]
  },
  {
   "cell_type": "code",
   "execution_count": 16,
   "id": "489df13f",
   "metadata": {},
   "outputs": [
    {
     "data": {
      "text/plain": [
       "0     False\n",
       "1     False\n",
       "2     False\n",
       "3     False\n",
       "4     False\n",
       "      ...  \n",
       "95    False\n",
       "96    False\n",
       "97    False\n",
       "98    False\n",
       "99    False\n",
       "Length: 100, dtype: bool"
      ]
     },
     "execution_count": 16,
     "metadata": {},
     "output_type": "execute_result"
    }
   ],
   "source": [
    "df.duplicated()"
   ]
  },
  {
   "cell_type": "code",
   "execution_count": 17,
   "id": "8107ec87",
   "metadata": {},
   "outputs": [
    {
     "data": {
      "text/html": [
       "<div>\n",
       "<style scoped>\n",
       "    .dataframe tbody tr th:only-of-type {\n",
       "        vertical-align: middle;\n",
       "    }\n",
       "\n",
       "    .dataframe tbody tr th {\n",
       "        vertical-align: top;\n",
       "    }\n",
       "\n",
       "    .dataframe thead th {\n",
       "        text-align: right;\n",
       "    }\n",
       "</style>\n",
       "<table border=\"1\" class=\"dataframe\">\n",
       "  <thead>\n",
       "    <tr style=\"text-align: right;\">\n",
       "      <th></th>\n",
       "      <th>customer_id</th>\n",
       "      <th>product_title</th>\n",
       "      <th>star_rating</th>\n",
       "      <th>helpful_votes</th>\n",
       "      <th>total_votes</th>\n",
       "      <th>verified_purchase</th>\n",
       "      <th>review_date</th>\n",
       "      <th>Sentiment_grcry</th>\n",
       "    </tr>\n",
       "  </thead>\n",
       "  <tbody>\n",
       "    <tr>\n",
       "      <th>0</th>\n",
       "      <td>\"42521656\"</td>\n",
       "      <td>\"The Cravings Place Chocolate Chunk Cookie Mix...</td>\n",
       "      <td>1</td>\n",
       "      <td>0</td>\n",
       "      <td>0</td>\n",
       "      <td>1 \\t(Y)</td>\n",
       "      <td>2015-08-31</td>\n",
       "      <td>positive</td>\n",
       "    </tr>\n",
       "    <tr>\n",
       "      <th>1</th>\n",
       "      <td>\"12049833\"</td>\n",
       "      <td>\"Mauna Loa Macadamias, 11 Ounce Packages\"</td>\n",
       "      <td>1</td>\n",
       "      <td>0</td>\n",
       "      <td>0</td>\n",
       "      <td>1 \\t(Y)</td>\n",
       "      <td>2015-08-31</td>\n",
       "      <td>positive</td>\n",
       "    </tr>\n",
       "    <tr>\n",
       "      <th>2</th>\n",
       "      <td>\"107642\"</td>\n",
       "      <td>\"Organic Matcha Green Tea Powder - 100% Pure M...</td>\n",
       "      <td>1</td>\n",
       "      <td>0</td>\n",
       "      <td>0</td>\n",
       "      <td>0 \\t(N)</td>\n",
       "      <td>2015-08-31</td>\n",
       "      <td>positive</td>\n",
       "    </tr>\n",
       "    <tr>\n",
       "      <th>3</th>\n",
       "      <td>\"6042304\"</td>\n",
       "      <td>\"15oz Raspberry Lyons Designer Dessert Syrup S...</td>\n",
       "      <td>1</td>\n",
       "      <td>0</td>\n",
       "      <td>0</td>\n",
       "      <td>1 \\t(Y)</td>\n",
       "      <td>2015-08-31</td>\n",
       "      <td>positive</td>\n",
       "    </tr>\n",
       "    <tr>\n",
       "      <th>4</th>\n",
       "      <td>\"18123821\"</td>\n",
       "      <td>\"Stride Spark Kinetic Fruit Sugar Free Gum, 14...</td>\n",
       "      <td>1</td>\n",
       "      <td>0</td>\n",
       "      <td>0</td>\n",
       "      <td>1 \\t(Y)</td>\n",
       "      <td>2015-08-31</td>\n",
       "      <td>positive</td>\n",
       "    </tr>\n",
       "    <tr>\n",
       "      <th>...</th>\n",
       "      <td>...</td>\n",
       "      <td>...</td>\n",
       "      <td>...</td>\n",
       "      <td>...</td>\n",
       "      <td>...</td>\n",
       "      <td>...</td>\n",
       "      <td>...</td>\n",
       "      <td>...</td>\n",
       "    </tr>\n",
       "    <tr>\n",
       "      <th>95</th>\n",
       "      <td>\"41855640\"</td>\n",
       "      <td>\"Emerald Cocoa Roast Dark Chocolate Almonds - ...</td>\n",
       "      <td>1</td>\n",
       "      <td>0</td>\n",
       "      <td>0</td>\n",
       "      <td>1 \\t(Y)</td>\n",
       "      <td>2015-08-31</td>\n",
       "      <td>positive</td>\n",
       "    </tr>\n",
       "    <tr>\n",
       "      <th>96</th>\n",
       "      <td>\"13730310\"</td>\n",
       "      <td>\"Fiber One Chewy Bars Oats &amp; Chocolate: 36 Bar...</td>\n",
       "      <td>1</td>\n",
       "      <td>2</td>\n",
       "      <td>3</td>\n",
       "      <td>0 \\t(N)</td>\n",
       "      <td>2015-08-31</td>\n",
       "      <td>positive</td>\n",
       "    </tr>\n",
       "    <tr>\n",
       "      <th>97</th>\n",
       "      <td>\"48872127\"</td>\n",
       "      <td>\"Gerber Good Start Infant Formula Sample Box\"</td>\n",
       "      <td>0</td>\n",
       "      <td>0</td>\n",
       "      <td>0</td>\n",
       "      <td>0 \\t(N)</td>\n",
       "      <td>2015-08-31</td>\n",
       "      <td>negaitve</td>\n",
       "    </tr>\n",
       "    <tr>\n",
       "      <th>98</th>\n",
       "      <td>\"12859252\"</td>\n",
       "      <td>\"Cheese Wax 1 lb - Red\"</td>\n",
       "      <td>1</td>\n",
       "      <td>0</td>\n",
       "      <td>0</td>\n",
       "      <td>1 \\t(Y)</td>\n",
       "      <td>2015-08-31</td>\n",
       "      <td>positive</td>\n",
       "    </tr>\n",
       "    <tr>\n",
       "      <th>99</th>\n",
       "      <td>\"33828780\"</td>\n",
       "      <td>\"Gustaf’s Traditional Dutch Authentic Double S...</td>\n",
       "      <td>0</td>\n",
       "      <td>0</td>\n",
       "      <td>5</td>\n",
       "      <td>1 \\t(Y)</td>\n",
       "      <td>2015-08-31</td>\n",
       "      <td>negaitve</td>\n",
       "    </tr>\n",
       "  </tbody>\n",
       "</table>\n",
       "<p>100 rows × 8 columns</p>\n",
       "</div>"
      ],
      "text/plain": [
       "   customer_id                                      product_title  \\\n",
       "0   \"42521656\"  \"The Cravings Place Chocolate Chunk Cookie Mix...   \n",
       "1   \"12049833\"          \"Mauna Loa Macadamias, 11 Ounce Packages\"   \n",
       "2     \"107642\"  \"Organic Matcha Green Tea Powder - 100% Pure M...   \n",
       "3    \"6042304\"  \"15oz Raspberry Lyons Designer Dessert Syrup S...   \n",
       "4   \"18123821\"  \"Stride Spark Kinetic Fruit Sugar Free Gum, 14...   \n",
       "..         ...                                                ...   \n",
       "95  \"41855640\"  \"Emerald Cocoa Roast Dark Chocolate Almonds - ...   \n",
       "96  \"13730310\"  \"Fiber One Chewy Bars Oats & Chocolate: 36 Bar...   \n",
       "97  \"48872127\"      \"Gerber Good Start Infant Formula Sample Box\"   \n",
       "98  \"12859252\"                            \"Cheese Wax 1 lb - Red\"   \n",
       "99  \"33828780\"  \"Gustaf’s Traditional Dutch Authentic Double S...   \n",
       "\n",
       "    star_rating  helpful_votes  total_votes verified_purchase review_date  \\\n",
       "0             1              0            0           1 \\t(Y)  2015-08-31   \n",
       "1             1              0            0           1 \\t(Y)  2015-08-31   \n",
       "2             1              0            0           0 \\t(N)  2015-08-31   \n",
       "3             1              0            0           1 \\t(Y)  2015-08-31   \n",
       "4             1              0            0           1 \\t(Y)  2015-08-31   \n",
       "..          ...            ...          ...               ...         ...   \n",
       "95            1              0            0           1 \\t(Y)  2015-08-31   \n",
       "96            1              2            3           0 \\t(N)  2015-08-31   \n",
       "97            0              0            0           0 \\t(N)  2015-08-31   \n",
       "98            1              0            0           1 \\t(Y)  2015-08-31   \n",
       "99            0              0            5           1 \\t(Y)  2015-08-31   \n",
       "\n",
       "   Sentiment_grcry  \n",
       "0         positive  \n",
       "1         positive  \n",
       "2         positive  \n",
       "3         positive  \n",
       "4         positive  \n",
       "..             ...  \n",
       "95        positive  \n",
       "96        positive  \n",
       "97        negaitve  \n",
       "98        positive  \n",
       "99        negaitve  \n",
       "\n",
       "[100 rows x 8 columns]"
      ]
     },
     "execution_count": 17,
     "metadata": {},
     "output_type": "execute_result"
    }
   ],
   "source": [
    "df.drop_duplicates()"
   ]
  },
  {
   "cell_type": "raw",
   "id": "c1e5f24c",
   "metadata": {},
   "source": [
    "From Above we can see that number of rows are equal to unique values and also code proves the same hence no duplicate values."
   ]
  },
  {
   "cell_type": "code",
   "execution_count": 18,
   "id": "72104f9c",
   "metadata": {},
   "outputs": [
    {
     "data": {
      "text/html": [
       "<div>\n",
       "<style scoped>\n",
       "    .dataframe tbody tr th:only-of-type {\n",
       "        vertical-align: middle;\n",
       "    }\n",
       "\n",
       "    .dataframe tbody tr th {\n",
       "        vertical-align: top;\n",
       "    }\n",
       "\n",
       "    .dataframe thead th {\n",
       "        text-align: right;\n",
       "    }\n",
       "</style>\n",
       "<table border=\"1\" class=\"dataframe\">\n",
       "  <thead>\n",
       "    <tr style=\"text-align: right;\">\n",
       "      <th></th>\n",
       "      <th>customer_id</th>\n",
       "      <th>product_title</th>\n",
       "      <th>star_rating</th>\n",
       "      <th>helpful_votes</th>\n",
       "      <th>total_votes</th>\n",
       "      <th>verified_purchase</th>\n",
       "      <th>review_date</th>\n",
       "      <th>Sentiment_grcry</th>\n",
       "    </tr>\n",
       "  </thead>\n",
       "  <tbody>\n",
       "    <tr>\n",
       "      <th>87</th>\n",
       "      <td>\"41775873\"</td>\n",
       "      <td>\"All 4 you Hot Sauce Clear Glass Dasher Bottle...</td>\n",
       "      <td>1</td>\n",
       "      <td>1</td>\n",
       "      <td>1</td>\n",
       "      <td>1 \\t(Y)</td>\n",
       "      <td>2015-08-31</td>\n",
       "      <td>positive</td>\n",
       "    </tr>\n",
       "  </tbody>\n",
       "</table>\n",
       "</div>"
      ],
      "text/plain": [
       "   customer_id                                      product_title  \\\n",
       "87  \"41775873\"  \"All 4 you Hot Sauce Clear Glass Dasher Bottle...   \n",
       "\n",
       "    star_rating  helpful_votes  total_votes verified_purchase review_date  \\\n",
       "87            1              1            1           1 \\t(Y)  2015-08-31   \n",
       "\n",
       "   Sentiment_grcry  \n",
       "87        positive  "
      ]
     },
     "execution_count": 18,
     "metadata": {},
     "output_type": "execute_result"
    }
   ],
   "source": [
    "df.sample()"
   ]
  },
  {
   "cell_type": "markdown",
   "id": "aad2e97c",
   "metadata": {},
   "source": [
    "### Check Null values"
   ]
  },
  {
   "cell_type": "code",
   "execution_count": 19,
   "id": "155786ec",
   "metadata": {},
   "outputs": [
    {
     "name": "stdout",
     "output_type": "stream",
     "text": [
      "<class 'pandas.core.frame.DataFrame'>\n",
      "RangeIndex: 100 entries, 0 to 99\n",
      "Data columns (total 8 columns):\n",
      " #   Column             Non-Null Count  Dtype \n",
      "---  ------             --------------  ----- \n",
      " 0   customer_id        100 non-null    object\n",
      " 1   product_title      100 non-null    object\n",
      " 2   star_rating        100 non-null    int64 \n",
      " 3   helpful_votes      100 non-null    int64 \n",
      " 4   total_votes        100 non-null    int64 \n",
      " 5   verified_purchase  100 non-null    object\n",
      " 6   review_date        100 non-null    object\n",
      " 7   Sentiment_grcry    100 non-null    object\n",
      "dtypes: int64(3), object(5)\n",
      "memory usage: 6.4+ KB\n"
     ]
    }
   ],
   "source": [
    "df.info()"
   ]
  },
  {
   "cell_type": "code",
   "execution_count": 20,
   "id": "0e82e0ef",
   "metadata": {},
   "outputs": [
    {
     "data": {
      "text/plain": [
       "customer_id          0\n",
       "product_title        0\n",
       "star_rating          0\n",
       "helpful_votes        0\n",
       "total_votes          0\n",
       "verified_purchase    0\n",
       "review_date          0\n",
       "Sentiment_grcry      0\n",
       "dtype: int64"
      ]
     },
     "execution_count": 20,
     "metadata": {},
     "output_type": "execute_result"
    }
   ],
   "source": [
    "df.isnull().sum()"
   ]
  },
  {
   "cell_type": "markdown",
   "id": "47a1df3e",
   "metadata": {},
   "source": [
    "From above both the codes we can see that there is no null value hence need not to drop or impute any values in records."
   ]
  },
  {
   "cell_type": "markdown",
   "id": "bf971655",
   "metadata": {},
   "source": [
    "### Check Stastical Data"
   ]
  },
  {
   "cell_type": "code",
   "execution_count": 21,
   "id": "52ae7547",
   "metadata": {},
   "outputs": [
    {
     "data": {
      "text/html": [
       "<div>\n",
       "<style scoped>\n",
       "    .dataframe tbody tr th:only-of-type {\n",
       "        vertical-align: middle;\n",
       "    }\n",
       "\n",
       "    .dataframe tbody tr th {\n",
       "        vertical-align: top;\n",
       "    }\n",
       "\n",
       "    .dataframe thead th {\n",
       "        text-align: right;\n",
       "    }\n",
       "</style>\n",
       "<table border=\"1\" class=\"dataframe\">\n",
       "  <thead>\n",
       "    <tr style=\"text-align: right;\">\n",
       "      <th></th>\n",
       "      <th>star_rating</th>\n",
       "      <th>helpful_votes</th>\n",
       "      <th>total_votes</th>\n",
       "    </tr>\n",
       "  </thead>\n",
       "  <tbody>\n",
       "    <tr>\n",
       "      <th>count</th>\n",
       "      <td>100.000000</td>\n",
       "      <td>100.000000</td>\n",
       "      <td>100.000000</td>\n",
       "    </tr>\n",
       "    <tr>\n",
       "      <th>mean</th>\n",
       "      <td>0.830000</td>\n",
       "      <td>0.490000</td>\n",
       "      <td>0.670000</td>\n",
       "    </tr>\n",
       "    <tr>\n",
       "      <th>std</th>\n",
       "      <td>0.377525</td>\n",
       "      <td>1.010001</td>\n",
       "      <td>1.287508</td>\n",
       "    </tr>\n",
       "    <tr>\n",
       "      <th>min</th>\n",
       "      <td>0.000000</td>\n",
       "      <td>0.000000</td>\n",
       "      <td>0.000000</td>\n",
       "    </tr>\n",
       "    <tr>\n",
       "      <th>25%</th>\n",
       "      <td>1.000000</td>\n",
       "      <td>0.000000</td>\n",
       "      <td>0.000000</td>\n",
       "    </tr>\n",
       "    <tr>\n",
       "      <th>50%</th>\n",
       "      <td>1.000000</td>\n",
       "      <td>0.000000</td>\n",
       "      <td>0.000000</td>\n",
       "    </tr>\n",
       "    <tr>\n",
       "      <th>75%</th>\n",
       "      <td>1.000000</td>\n",
       "      <td>1.000000</td>\n",
       "      <td>1.000000</td>\n",
       "    </tr>\n",
       "    <tr>\n",
       "      <th>max</th>\n",
       "      <td>1.000000</td>\n",
       "      <td>5.000000</td>\n",
       "      <td>7.000000</td>\n",
       "    </tr>\n",
       "  </tbody>\n",
       "</table>\n",
       "</div>"
      ],
      "text/plain": [
       "       star_rating  helpful_votes  total_votes\n",
       "count   100.000000     100.000000   100.000000\n",
       "mean      0.830000       0.490000     0.670000\n",
       "std       0.377525       1.010001     1.287508\n",
       "min       0.000000       0.000000     0.000000\n",
       "25%       1.000000       0.000000     0.000000\n",
       "50%       1.000000       0.000000     0.000000\n",
       "75%       1.000000       1.000000     1.000000\n",
       "max       1.000000       5.000000     7.000000"
      ]
     },
     "execution_count": 21,
     "metadata": {},
     "output_type": "execute_result"
    }
   ],
   "source": [
    "df.describe()"
   ]
  },
  {
   "cell_type": "raw",
   "id": "e160a238",
   "metadata": {},
   "source": [
    "from above it shows only statstical analysis of the columns of the dataset which are numeric\n",
    "we can see mean, std deviation and other parameters of the dataset."
   ]
  },
  {
   "cell_type": "code",
   "execution_count": 22,
   "id": "c4d320c7",
   "metadata": {},
   "outputs": [
    {
     "data": {
      "text/html": [
       "<div>\n",
       "<style scoped>\n",
       "    .dataframe tbody tr th:only-of-type {\n",
       "        vertical-align: middle;\n",
       "    }\n",
       "\n",
       "    .dataframe tbody tr th {\n",
       "        vertical-align: top;\n",
       "    }\n",
       "\n",
       "    .dataframe thead th {\n",
       "        text-align: right;\n",
       "    }\n",
       "</style>\n",
       "<table border=\"1\" class=\"dataframe\">\n",
       "  <thead>\n",
       "    <tr style=\"text-align: right;\">\n",
       "      <th></th>\n",
       "      <th>customer_id</th>\n",
       "      <th>product_title</th>\n",
       "      <th>star_rating</th>\n",
       "      <th>helpful_votes</th>\n",
       "      <th>total_votes</th>\n",
       "      <th>verified_purchase</th>\n",
       "      <th>review_date</th>\n",
       "      <th>Sentiment_grcry</th>\n",
       "    </tr>\n",
       "  </thead>\n",
       "  <tbody>\n",
       "    <tr>\n",
       "      <th>count</th>\n",
       "      <td>100</td>\n",
       "      <td>100</td>\n",
       "      <td>100.000000</td>\n",
       "      <td>100.000000</td>\n",
       "      <td>100.000000</td>\n",
       "      <td>100</td>\n",
       "      <td>100</td>\n",
       "      <td>100</td>\n",
       "    </tr>\n",
       "    <tr>\n",
       "      <th>unique</th>\n",
       "      <td>99</td>\n",
       "      <td>98</td>\n",
       "      <td>NaN</td>\n",
       "      <td>NaN</td>\n",
       "      <td>NaN</td>\n",
       "      <td>2</td>\n",
       "      <td>1</td>\n",
       "      <td>2</td>\n",
       "    </tr>\n",
       "    <tr>\n",
       "      <th>top</th>\n",
       "      <td>\"107642\"</td>\n",
       "      <td>\"Mauna Loa Macadamias, 11 Ounce Packages\"</td>\n",
       "      <td>NaN</td>\n",
       "      <td>NaN</td>\n",
       "      <td>NaN</td>\n",
       "      <td>1 \\t(Y)</td>\n",
       "      <td>2015-08-31</td>\n",
       "      <td>positive</td>\n",
       "    </tr>\n",
       "    <tr>\n",
       "      <th>freq</th>\n",
       "      <td>2</td>\n",
       "      <td>2</td>\n",
       "      <td>NaN</td>\n",
       "      <td>NaN</td>\n",
       "      <td>NaN</td>\n",
       "      <td>83</td>\n",
       "      <td>100</td>\n",
       "      <td>83</td>\n",
       "    </tr>\n",
       "    <tr>\n",
       "      <th>mean</th>\n",
       "      <td>NaN</td>\n",
       "      <td>NaN</td>\n",
       "      <td>0.830000</td>\n",
       "      <td>0.490000</td>\n",
       "      <td>0.670000</td>\n",
       "      <td>NaN</td>\n",
       "      <td>NaN</td>\n",
       "      <td>NaN</td>\n",
       "    </tr>\n",
       "    <tr>\n",
       "      <th>std</th>\n",
       "      <td>NaN</td>\n",
       "      <td>NaN</td>\n",
       "      <td>0.377525</td>\n",
       "      <td>1.010001</td>\n",
       "      <td>1.287508</td>\n",
       "      <td>NaN</td>\n",
       "      <td>NaN</td>\n",
       "      <td>NaN</td>\n",
       "    </tr>\n",
       "    <tr>\n",
       "      <th>min</th>\n",
       "      <td>NaN</td>\n",
       "      <td>NaN</td>\n",
       "      <td>0.000000</td>\n",
       "      <td>0.000000</td>\n",
       "      <td>0.000000</td>\n",
       "      <td>NaN</td>\n",
       "      <td>NaN</td>\n",
       "      <td>NaN</td>\n",
       "    </tr>\n",
       "    <tr>\n",
       "      <th>25%</th>\n",
       "      <td>NaN</td>\n",
       "      <td>NaN</td>\n",
       "      <td>1.000000</td>\n",
       "      <td>0.000000</td>\n",
       "      <td>0.000000</td>\n",
       "      <td>NaN</td>\n",
       "      <td>NaN</td>\n",
       "      <td>NaN</td>\n",
       "    </tr>\n",
       "    <tr>\n",
       "      <th>50%</th>\n",
       "      <td>NaN</td>\n",
       "      <td>NaN</td>\n",
       "      <td>1.000000</td>\n",
       "      <td>0.000000</td>\n",
       "      <td>0.000000</td>\n",
       "      <td>NaN</td>\n",
       "      <td>NaN</td>\n",
       "      <td>NaN</td>\n",
       "    </tr>\n",
       "    <tr>\n",
       "      <th>75%</th>\n",
       "      <td>NaN</td>\n",
       "      <td>NaN</td>\n",
       "      <td>1.000000</td>\n",
       "      <td>1.000000</td>\n",
       "      <td>1.000000</td>\n",
       "      <td>NaN</td>\n",
       "      <td>NaN</td>\n",
       "      <td>NaN</td>\n",
       "    </tr>\n",
       "    <tr>\n",
       "      <th>max</th>\n",
       "      <td>NaN</td>\n",
       "      <td>NaN</td>\n",
       "      <td>1.000000</td>\n",
       "      <td>5.000000</td>\n",
       "      <td>7.000000</td>\n",
       "      <td>NaN</td>\n",
       "      <td>NaN</td>\n",
       "      <td>NaN</td>\n",
       "    </tr>\n",
       "  </tbody>\n",
       "</table>\n",
       "</div>"
      ],
      "text/plain": [
       "       customer_id                              product_title  star_rating  \\\n",
       "count          100                                        100   100.000000   \n",
       "unique          99                                         98          NaN   \n",
       "top       \"107642\"  \"Mauna Loa Macadamias, 11 Ounce Packages\"          NaN   \n",
       "freq             2                                          2          NaN   \n",
       "mean           NaN                                        NaN     0.830000   \n",
       "std            NaN                                        NaN     0.377525   \n",
       "min            NaN                                        NaN     0.000000   \n",
       "25%            NaN                                        NaN     1.000000   \n",
       "50%            NaN                                        NaN     1.000000   \n",
       "75%            NaN                                        NaN     1.000000   \n",
       "max            NaN                                        NaN     1.000000   \n",
       "\n",
       "        helpful_votes  total_votes verified_purchase review_date  \\\n",
       "count      100.000000   100.000000               100         100   \n",
       "unique            NaN          NaN                 2           1   \n",
       "top               NaN          NaN           1 \\t(Y)  2015-08-31   \n",
       "freq              NaN          NaN                83         100   \n",
       "mean         0.490000     0.670000               NaN         NaN   \n",
       "std          1.010001     1.287508               NaN         NaN   \n",
       "min          0.000000     0.000000               NaN         NaN   \n",
       "25%          0.000000     0.000000               NaN         NaN   \n",
       "50%          0.000000     0.000000               NaN         NaN   \n",
       "75%          1.000000     1.000000               NaN         NaN   \n",
       "max          5.000000     7.000000               NaN         NaN   \n",
       "\n",
       "       Sentiment_grcry  \n",
       "count              100  \n",
       "unique               2  \n",
       "top           positive  \n",
       "freq                83  \n",
       "mean               NaN  \n",
       "std                NaN  \n",
       "min                NaN  \n",
       "25%                NaN  \n",
       "50%                NaN  \n",
       "75%                NaN  \n",
       "max                NaN  "
      ]
     },
     "execution_count": 22,
     "metadata": {},
     "output_type": "execute_result"
    }
   ],
   "source": [
    "df.describe(include='all')"
   ]
  },
  {
   "cell_type": "raw",
   "id": "fdb61bee",
   "metadata": {},
   "source": [
    "When we include All it means it will give all the parameters from the dataset, and for the categorical columns it will show mean,std and other parameters Null, and new features are added like freq, top unique, etc"
   ]
  },
  {
   "cell_type": "code",
   "execution_count": 23,
   "id": "e07dd008",
   "metadata": {},
   "outputs": [
    {
     "data": {
      "text/plain": [
       "1.0"
      ]
     },
     "execution_count": 23,
     "metadata": {},
     "output_type": "execute_result"
    }
   ],
   "source": [
    "df.star_rating.median()"
   ]
  },
  {
   "cell_type": "code",
   "execution_count": 24,
   "id": "5a0fcc68",
   "metadata": {},
   "outputs": [
    {
     "data": {
      "text/plain": [
       "0.0"
      ]
     },
     "execution_count": 24,
     "metadata": {},
     "output_type": "execute_result"
    }
   ],
   "source": [
    "df.helpful_votes.median()"
   ]
  },
  {
   "cell_type": "code",
   "execution_count": 25,
   "id": "9951bded",
   "metadata": {},
   "outputs": [
    {
     "data": {
      "text/plain": [
       "0.0"
      ]
     },
     "execution_count": 25,
     "metadata": {},
     "output_type": "execute_result"
    }
   ],
   "source": [
    "df.total_votes.median()"
   ]
  },
  {
   "cell_type": "markdown",
   "id": "1eb06ec1",
   "metadata": {},
   "source": [
    "### Conversion of Datatypes"
   ]
  },
  {
   "cell_type": "code",
   "execution_count": 26,
   "id": "7806a67f",
   "metadata": {},
   "outputs": [
    {
     "name": "stdout",
     "output_type": "stream",
     "text": [
      "<class 'pandas.core.frame.DataFrame'>\n",
      "RangeIndex: 100 entries, 0 to 99\n",
      "Data columns (total 8 columns):\n",
      " #   Column             Non-Null Count  Dtype \n",
      "---  ------             --------------  ----- \n",
      " 0   customer_id        100 non-null    object\n",
      " 1   product_title      100 non-null    object\n",
      " 2   star_rating        100 non-null    int64 \n",
      " 3   helpful_votes      100 non-null    int64 \n",
      " 4   total_votes        100 non-null    int64 \n",
      " 5   verified_purchase  100 non-null    object\n",
      " 6   review_date        100 non-null    object\n",
      " 7   Sentiment_grcry    100 non-null    object\n",
      "dtypes: int64(3), object(5)\n",
      "memory usage: 6.4+ KB\n"
     ]
    }
   ],
   "source": [
    "df.info()"
   ]
  },
  {
   "cell_type": "markdown",
   "id": "bff9aab0",
   "metadata": {},
   "source": [
    "as we can see there are mostly columns in object datatype so we need to change the datatypes and by using apply, def functions we can remove unwanted data"
   ]
  },
  {
   "cell_type": "code",
   "execution_count": 27,
   "id": "192b7591",
   "metadata": {},
   "outputs": [
    {
     "data": {
      "text/html": [
       "<div>\n",
       "<style scoped>\n",
       "    .dataframe tbody tr th:only-of-type {\n",
       "        vertical-align: middle;\n",
       "    }\n",
       "\n",
       "    .dataframe tbody tr th {\n",
       "        vertical-align: top;\n",
       "    }\n",
       "\n",
       "    .dataframe thead th {\n",
       "        text-align: right;\n",
       "    }\n",
       "</style>\n",
       "<table border=\"1\" class=\"dataframe\">\n",
       "  <thead>\n",
       "    <tr style=\"text-align: right;\">\n",
       "      <th></th>\n",
       "      <th>customer_id</th>\n",
       "      <th>product_title</th>\n",
       "      <th>star_rating</th>\n",
       "      <th>helpful_votes</th>\n",
       "      <th>total_votes</th>\n",
       "      <th>verified_purchase</th>\n",
       "      <th>review_date</th>\n",
       "      <th>Sentiment_grcry</th>\n",
       "    </tr>\n",
       "  </thead>\n",
       "  <tbody>\n",
       "    <tr>\n",
       "      <th>0</th>\n",
       "      <td>\"42521656\"</td>\n",
       "      <td>The Cravings Place Chocolate Chunk Cookie Mix,...</td>\n",
       "      <td>1</td>\n",
       "      <td>0</td>\n",
       "      <td>0</td>\n",
       "      <td>1 \\t(Y)</td>\n",
       "      <td>2015-08-31</td>\n",
       "      <td>positive</td>\n",
       "    </tr>\n",
       "    <tr>\n",
       "      <th>1</th>\n",
       "      <td>\"12049833\"</td>\n",
       "      <td>Mauna Loa Macadamias, 11 Ounce Packages</td>\n",
       "      <td>1</td>\n",
       "      <td>0</td>\n",
       "      <td>0</td>\n",
       "      <td>1 \\t(Y)</td>\n",
       "      <td>2015-08-31</td>\n",
       "      <td>positive</td>\n",
       "    </tr>\n",
       "    <tr>\n",
       "      <th>2</th>\n",
       "      <td>\"107642\"</td>\n",
       "      <td>Organic Matcha Green Tea Powder - 100% Pure Ma...</td>\n",
       "      <td>1</td>\n",
       "      <td>0</td>\n",
       "      <td>0</td>\n",
       "      <td>0 \\t(N)</td>\n",
       "      <td>2015-08-31</td>\n",
       "      <td>positive</td>\n",
       "    </tr>\n",
       "    <tr>\n",
       "      <th>3</th>\n",
       "      <td>\"6042304\"</td>\n",
       "      <td>15oz Raspberry Lyons Designer Dessert Syrup Sauce</td>\n",
       "      <td>1</td>\n",
       "      <td>0</td>\n",
       "      <td>0</td>\n",
       "      <td>1 \\t(Y)</td>\n",
       "      <td>2015-08-31</td>\n",
       "      <td>positive</td>\n",
       "    </tr>\n",
       "    <tr>\n",
       "      <th>4</th>\n",
       "      <td>\"18123821\"</td>\n",
       "      <td>Stride Spark Kinetic Fruit Sugar Free Gum, 14-...</td>\n",
       "      <td>1</td>\n",
       "      <td>0</td>\n",
       "      <td>0</td>\n",
       "      <td>1 \\t(Y)</td>\n",
       "      <td>2015-08-31</td>\n",
       "      <td>positive</td>\n",
       "    </tr>\n",
       "  </tbody>\n",
       "</table>\n",
       "</div>"
      ],
      "text/plain": [
       "  customer_id                                      product_title  star_rating  \\\n",
       "0  \"42521656\"  The Cravings Place Chocolate Chunk Cookie Mix,...            1   \n",
       "1  \"12049833\"            Mauna Loa Macadamias, 11 Ounce Packages            1   \n",
       "2    \"107642\"  Organic Matcha Green Tea Powder - 100% Pure Ma...            1   \n",
       "3   \"6042304\"  15oz Raspberry Lyons Designer Dessert Syrup Sauce            1   \n",
       "4  \"18123821\"  Stride Spark Kinetic Fruit Sugar Free Gum, 14-...            1   \n",
       "\n",
       "   helpful_votes  total_votes verified_purchase review_date Sentiment_grcry  \n",
       "0              0            0           1 \\t(Y)  2015-08-31        positive  \n",
       "1              0            0           1 \\t(Y)  2015-08-31        positive  \n",
       "2              0            0           0 \\t(N)  2015-08-31        positive  \n",
       "3              0            0           1 \\t(Y)  2015-08-31        positive  \n",
       "4              0            0           1 \\t(Y)  2015-08-31        positive  "
      ]
     },
     "execution_count": 27,
     "metadata": {},
     "output_type": "execute_result"
    }
   ],
   "source": [
    "def remove_quotation_marks(org):  \n",
    "    org=str(org) \n",
    "    org=org.split('\"')  \n",
    "    org=org[1]\n",
    "    return org\n",
    "df['product_title']=df['product_title'].apply(remove_quotation_marks) \n",
    "df.head()"
   ]
  },
  {
   "cell_type": "code",
   "execution_count": 28,
   "id": "530040c2",
   "metadata": {},
   "outputs": [
    {
     "data": {
      "text/html": [
       "<div>\n",
       "<style scoped>\n",
       "    .dataframe tbody tr th:only-of-type {\n",
       "        vertical-align: middle;\n",
       "    }\n",
       "\n",
       "    .dataframe tbody tr th {\n",
       "        vertical-align: top;\n",
       "    }\n",
       "\n",
       "    .dataframe thead th {\n",
       "        text-align: right;\n",
       "    }\n",
       "</style>\n",
       "<table border=\"1\" class=\"dataframe\">\n",
       "  <thead>\n",
       "    <tr style=\"text-align: right;\">\n",
       "      <th></th>\n",
       "      <th>customer_id</th>\n",
       "      <th>product_title</th>\n",
       "      <th>star_rating</th>\n",
       "      <th>helpful_votes</th>\n",
       "      <th>total_votes</th>\n",
       "      <th>verified_purchase</th>\n",
       "      <th>review_date</th>\n",
       "      <th>Sentiment_grcry</th>\n",
       "    </tr>\n",
       "  </thead>\n",
       "  <tbody>\n",
       "    <tr>\n",
       "      <th>0</th>\n",
       "      <td>42521656</td>\n",
       "      <td>The Cravings Place Chocolate Chunk Cookie Mix,...</td>\n",
       "      <td>1</td>\n",
       "      <td>0</td>\n",
       "      <td>0</td>\n",
       "      <td>1 \\t(Y)</td>\n",
       "      <td>2015-08-31</td>\n",
       "      <td>positive</td>\n",
       "    </tr>\n",
       "    <tr>\n",
       "      <th>1</th>\n",
       "      <td>12049833</td>\n",
       "      <td>Mauna Loa Macadamias, 11 Ounce Packages</td>\n",
       "      <td>1</td>\n",
       "      <td>0</td>\n",
       "      <td>0</td>\n",
       "      <td>1 \\t(Y)</td>\n",
       "      <td>2015-08-31</td>\n",
       "      <td>positive</td>\n",
       "    </tr>\n",
       "    <tr>\n",
       "      <th>2</th>\n",
       "      <td>107642</td>\n",
       "      <td>Organic Matcha Green Tea Powder - 100% Pure Ma...</td>\n",
       "      <td>1</td>\n",
       "      <td>0</td>\n",
       "      <td>0</td>\n",
       "      <td>0 \\t(N)</td>\n",
       "      <td>2015-08-31</td>\n",
       "      <td>positive</td>\n",
       "    </tr>\n",
       "    <tr>\n",
       "      <th>3</th>\n",
       "      <td>6042304</td>\n",
       "      <td>15oz Raspberry Lyons Designer Dessert Syrup Sauce</td>\n",
       "      <td>1</td>\n",
       "      <td>0</td>\n",
       "      <td>0</td>\n",
       "      <td>1 \\t(Y)</td>\n",
       "      <td>2015-08-31</td>\n",
       "      <td>positive</td>\n",
       "    </tr>\n",
       "    <tr>\n",
       "      <th>4</th>\n",
       "      <td>18123821</td>\n",
       "      <td>Stride Spark Kinetic Fruit Sugar Free Gum, 14-...</td>\n",
       "      <td>1</td>\n",
       "      <td>0</td>\n",
       "      <td>0</td>\n",
       "      <td>1 \\t(Y)</td>\n",
       "      <td>2015-08-31</td>\n",
       "      <td>positive</td>\n",
       "    </tr>\n",
       "  </tbody>\n",
       "</table>\n",
       "</div>"
      ],
      "text/plain": [
       "  customer_id                                      product_title  star_rating  \\\n",
       "0    42521656  The Cravings Place Chocolate Chunk Cookie Mix,...            1   \n",
       "1    12049833            Mauna Loa Macadamias, 11 Ounce Packages            1   \n",
       "2      107642  Organic Matcha Green Tea Powder - 100% Pure Ma...            1   \n",
       "3     6042304  15oz Raspberry Lyons Designer Dessert Syrup Sauce            1   \n",
       "4    18123821  Stride Spark Kinetic Fruit Sugar Free Gum, 14-...            1   \n",
       "\n",
       "   helpful_votes  total_votes verified_purchase review_date Sentiment_grcry  \n",
       "0              0            0           1 \\t(Y)  2015-08-31        positive  \n",
       "1              0            0           1 \\t(Y)  2015-08-31        positive  \n",
       "2              0            0           0 \\t(N)  2015-08-31        positive  \n",
       "3              0            0           1 \\t(Y)  2015-08-31        positive  \n",
       "4              0            0           1 \\t(Y)  2015-08-31        positive  "
      ]
     },
     "execution_count": 28,
     "metadata": {},
     "output_type": "execute_result"
    }
   ],
   "source": [
    "df['customer_id']=df['customer_id'].apply(remove_quotation_marks) #Use apply function to extract quotation of marks from all the records\n",
    "df.head()"
   ]
  },
  {
   "cell_type": "code",
   "execution_count": 29,
   "id": "52cfaf81",
   "metadata": {},
   "outputs": [
    {
     "data": {
      "text/html": [
       "<div>\n",
       "<style scoped>\n",
       "    .dataframe tbody tr th:only-of-type {\n",
       "        vertical-align: middle;\n",
       "    }\n",
       "\n",
       "    .dataframe tbody tr th {\n",
       "        vertical-align: top;\n",
       "    }\n",
       "\n",
       "    .dataframe thead th {\n",
       "        text-align: right;\n",
       "    }\n",
       "</style>\n",
       "<table border=\"1\" class=\"dataframe\">\n",
       "  <thead>\n",
       "    <tr style=\"text-align: right;\">\n",
       "      <th></th>\n",
       "      <th>customer_id</th>\n",
       "      <th>product_title</th>\n",
       "      <th>star_rating</th>\n",
       "      <th>helpful_votes</th>\n",
       "      <th>total_votes</th>\n",
       "      <th>verified_purchase</th>\n",
       "      <th>review_date</th>\n",
       "      <th>Sentiment_grcry</th>\n",
       "    </tr>\n",
       "  </thead>\n",
       "  <tbody>\n",
       "    <tr>\n",
       "      <th>0</th>\n",
       "      <td>42521656</td>\n",
       "      <td>The Cravings Place Chocolate Chunk Cookie Mix,...</td>\n",
       "      <td>1</td>\n",
       "      <td>0</td>\n",
       "      <td>0</td>\n",
       "      <td>Y</td>\n",
       "      <td>2015-08-31</td>\n",
       "      <td>positive</td>\n",
       "    </tr>\n",
       "    <tr>\n",
       "      <th>1</th>\n",
       "      <td>12049833</td>\n",
       "      <td>Mauna Loa Macadamias, 11 Ounce Packages</td>\n",
       "      <td>1</td>\n",
       "      <td>0</td>\n",
       "      <td>0</td>\n",
       "      <td>Y</td>\n",
       "      <td>2015-08-31</td>\n",
       "      <td>positive</td>\n",
       "    </tr>\n",
       "    <tr>\n",
       "      <th>2</th>\n",
       "      <td>107642</td>\n",
       "      <td>Organic Matcha Green Tea Powder - 100% Pure Ma...</td>\n",
       "      <td>1</td>\n",
       "      <td>0</td>\n",
       "      <td>0</td>\n",
       "      <td>N</td>\n",
       "      <td>2015-08-31</td>\n",
       "      <td>positive</td>\n",
       "    </tr>\n",
       "    <tr>\n",
       "      <th>3</th>\n",
       "      <td>6042304</td>\n",
       "      <td>15oz Raspberry Lyons Designer Dessert Syrup Sauce</td>\n",
       "      <td>1</td>\n",
       "      <td>0</td>\n",
       "      <td>0</td>\n",
       "      <td>Y</td>\n",
       "      <td>2015-08-31</td>\n",
       "      <td>positive</td>\n",
       "    </tr>\n",
       "    <tr>\n",
       "      <th>4</th>\n",
       "      <td>18123821</td>\n",
       "      <td>Stride Spark Kinetic Fruit Sugar Free Gum, 14-...</td>\n",
       "      <td>1</td>\n",
       "      <td>0</td>\n",
       "      <td>0</td>\n",
       "      <td>Y</td>\n",
       "      <td>2015-08-31</td>\n",
       "      <td>positive</td>\n",
       "    </tr>\n",
       "  </tbody>\n",
       "</table>\n",
       "</div>"
      ],
      "text/plain": [
       "  customer_id                                      product_title  star_rating  \\\n",
       "0    42521656  The Cravings Place Chocolate Chunk Cookie Mix,...            1   \n",
       "1    12049833            Mauna Loa Macadamias, 11 Ounce Packages            1   \n",
       "2      107642  Organic Matcha Green Tea Powder - 100% Pure Ma...            1   \n",
       "3     6042304  15oz Raspberry Lyons Designer Dessert Syrup Sauce            1   \n",
       "4    18123821  Stride Spark Kinetic Fruit Sugar Free Gum, 14-...            1   \n",
       "\n",
       "   helpful_votes  total_votes verified_purchase review_date Sentiment_grcry  \n",
       "0              0            0                 Y  2015-08-31        positive  \n",
       "1              0            0                 Y  2015-08-31        positive  \n",
       "2              0            0                 N  2015-08-31        positive  \n",
       "3              0            0                 Y  2015-08-31        positive  \n",
       "4              0            0                 Y  2015-08-31        positive  "
      ]
     },
     "execution_count": 29,
     "metadata": {},
     "output_type": "execute_result"
    }
   ],
   "source": [
    "def remove_special_character(org):\n",
    "    org=org[4]  #here we are removing 1st 4letters of sentence \n",
    "    return org\n",
    "\n",
    "df['verified_purchase']=df['verified_purchase'].apply(remove_special_character)\n",
    "df.head()"
   ]
  },
  {
   "cell_type": "markdown",
   "id": "0758fc59",
   "metadata": {},
   "source": [
    "We have removed \" \" mark from 2 columns i.e customer_id and product title, also we have removed speical character from verified purchase"
   ]
  },
  {
   "cell_type": "code",
   "execution_count": 30,
   "id": "6442288c",
   "metadata": {},
   "outputs": [
    {
     "data": {
      "text/html": [
       "<div>\n",
       "<style scoped>\n",
       "    .dataframe tbody tr th:only-of-type {\n",
       "        vertical-align: middle;\n",
       "    }\n",
       "\n",
       "    .dataframe tbody tr th {\n",
       "        vertical-align: top;\n",
       "    }\n",
       "\n",
       "    .dataframe thead th {\n",
       "        text-align: right;\n",
       "    }\n",
       "</style>\n",
       "<table border=\"1\" class=\"dataframe\">\n",
       "  <thead>\n",
       "    <tr style=\"text-align: right;\">\n",
       "      <th></th>\n",
       "      <th>customer_id</th>\n",
       "      <th>product_title</th>\n",
       "      <th>star_rating</th>\n",
       "      <th>helpful_votes</th>\n",
       "      <th>total_votes</th>\n",
       "      <th>verified_purchase</th>\n",
       "      <th>review_date</th>\n",
       "      <th>Sentiment_grcry</th>\n",
       "    </tr>\n",
       "  </thead>\n",
       "  <tbody>\n",
       "    <tr>\n",
       "      <th>0</th>\n",
       "      <td>42521656</td>\n",
       "      <td>The Cravings Place Chocolate Chunk Cookie Mix,...</td>\n",
       "      <td>1</td>\n",
       "      <td>0</td>\n",
       "      <td>0</td>\n",
       "      <td>Y</td>\n",
       "      <td>2015-08-31</td>\n",
       "      <td>positive</td>\n",
       "    </tr>\n",
       "    <tr>\n",
       "      <th>1</th>\n",
       "      <td>12049833</td>\n",
       "      <td>Mauna Loa Macadamias, 11 Ounce Packages</td>\n",
       "      <td>1</td>\n",
       "      <td>0</td>\n",
       "      <td>0</td>\n",
       "      <td>Y</td>\n",
       "      <td>2015-08-31</td>\n",
       "      <td>positive</td>\n",
       "    </tr>\n",
       "    <tr>\n",
       "      <th>2</th>\n",
       "      <td>107642</td>\n",
       "      <td>Organic Matcha Green Tea Powder - 100% Pure Ma...</td>\n",
       "      <td>1</td>\n",
       "      <td>0</td>\n",
       "      <td>0</td>\n",
       "      <td>N</td>\n",
       "      <td>2015-08-31</td>\n",
       "      <td>positive</td>\n",
       "    </tr>\n",
       "    <tr>\n",
       "      <th>3</th>\n",
       "      <td>6042304</td>\n",
       "      <td>15oz Raspberry Lyons Designer Dessert Syrup Sauce</td>\n",
       "      <td>1</td>\n",
       "      <td>0</td>\n",
       "      <td>0</td>\n",
       "      <td>Y</td>\n",
       "      <td>2015-08-31</td>\n",
       "      <td>positive</td>\n",
       "    </tr>\n",
       "    <tr>\n",
       "      <th>4</th>\n",
       "      <td>18123821</td>\n",
       "      <td>Stride Spark Kinetic Fruit Sugar Free Gum, 14-...</td>\n",
       "      <td>1</td>\n",
       "      <td>0</td>\n",
       "      <td>0</td>\n",
       "      <td>Y</td>\n",
       "      <td>2015-08-31</td>\n",
       "      <td>positive</td>\n",
       "    </tr>\n",
       "  </tbody>\n",
       "</table>\n",
       "</div>"
      ],
      "text/plain": [
       "  customer_id                                      product_title  star_rating  \\\n",
       "0    42521656  The Cravings Place Chocolate Chunk Cookie Mix,...            1   \n",
       "1    12049833            Mauna Loa Macadamias, 11 Ounce Packages            1   \n",
       "2      107642  Organic Matcha Green Tea Powder - 100% Pure Ma...            1   \n",
       "3     6042304  15oz Raspberry Lyons Designer Dessert Syrup Sauce            1   \n",
       "4    18123821  Stride Spark Kinetic Fruit Sugar Free Gum, 14-...            1   \n",
       "\n",
       "   helpful_votes  total_votes verified_purchase review_date Sentiment_grcry  \n",
       "0              0            0                 Y  2015-08-31        positive  \n",
       "1              0            0                 Y  2015-08-31        positive  \n",
       "2              0            0                 N  2015-08-31        positive  \n",
       "3              0            0                 Y  2015-08-31        positive  \n",
       "4              0            0                 Y  2015-08-31        positive  "
      ]
     },
     "execution_count": 30,
     "metadata": {},
     "output_type": "execute_result"
    }
   ],
   "source": [
    "df['review_date'] = pd.to_datetime(df['review_date'], format='%Y-%m-%d') #conversion of column to datetime module\n",
    "df.head()"
   ]
  },
  {
   "cell_type": "code",
   "execution_count": 31,
   "id": "dfe855f1",
   "metadata": {},
   "outputs": [],
   "source": [
    "df['day']=df[\"review_date\"].dt.day #same we can extract date, year, time month in datetime module"
   ]
  },
  {
   "cell_type": "code",
   "execution_count": 32,
   "id": "3b0465a9",
   "metadata": {},
   "outputs": [],
   "source": [
    "df['customer_id'] = df['customer_id'].astype('Int64', errors='ignore')"
   ]
  },
  {
   "cell_type": "code",
   "execution_count": 33,
   "id": "94b10f68",
   "metadata": {},
   "outputs": [],
   "source": [
    "df['verified_purchase'] = df['verified_purchase'].astype('str')"
   ]
  },
  {
   "cell_type": "code",
   "execution_count": 34,
   "id": "0d40a2c2",
   "metadata": {},
   "outputs": [],
   "source": [
    "df['Sentiment_grcry'] = df['Sentiment_grcry'].astype(str)"
   ]
  },
  {
   "cell_type": "code",
   "execution_count": 35,
   "id": "539914d1",
   "metadata": {},
   "outputs": [],
   "source": [
    "df['product_title']=df['product_title'].astype(str)"
   ]
  },
  {
   "cell_type": "code",
   "execution_count": 36,
   "id": "a66d32a8",
   "metadata": {},
   "outputs": [
    {
     "name": "stdout",
     "output_type": "stream",
     "text": [
      "<class 'pandas.core.frame.DataFrame'>\n",
      "RangeIndex: 100 entries, 0 to 99\n",
      "Data columns (total 9 columns):\n",
      " #   Column             Non-Null Count  Dtype         \n",
      "---  ------             --------------  -----         \n",
      " 0   customer_id        100 non-null    Int64         \n",
      " 1   product_title      100 non-null    object        \n",
      " 2   star_rating        100 non-null    int64         \n",
      " 3   helpful_votes      100 non-null    int64         \n",
      " 4   total_votes        100 non-null    int64         \n",
      " 5   verified_purchase  100 non-null    object        \n",
      " 6   review_date        100 non-null    datetime64[ns]\n",
      " 7   Sentiment_grcry    100 non-null    object        \n",
      " 8   day                100 non-null    int32         \n",
      "dtypes: Int64(1), datetime64[ns](1), int32(1), int64(3), object(3)\n",
      "memory usage: 6.9+ KB\n"
     ]
    }
   ],
   "source": [
    "df.info()"
   ]
  },
  {
   "cell_type": "markdown",
   "id": "4cc6a8a8",
   "metadata": {},
   "source": [
    "we tried to change the data types of columns to string but may be product_ title, verified_purchase, Sentimen_grcry are having some special characters in any of the record \n",
    "but rest we could make to date time and integer datatyepes"
   ]
  },
  {
   "cell_type": "code",
   "execution_count": 37,
   "id": "81efa6bb",
   "metadata": {},
   "outputs": [
    {
     "data": {
      "text/plain": [
       "<Axes: xlabel='star_rating'>"
      ]
     },
     "execution_count": 37,
     "metadata": {},
     "output_type": "execute_result"
    },
    {
     "data": {
      "image/png": "[encoded data removed]",
      "text/plain": [
       "<Figure size 640x480 with 1 Axes>"
      ]
     },
     "metadata": {},
     "output_type": "display_data"
    }
   ],
   "source": [
    "sns.boxplot(data=df, x='star_rating')"
   ]
  },
  {
   "cell_type": "code",
   "execution_count": 38,
   "id": "e1224676",
   "metadata": {},
   "outputs": [
    {
     "data": {
      "text/plain": [
       "<Axes: xlabel='helpful_votes'>"
      ]
     },
     "execution_count": 38,
     "metadata": {},
     "output_type": "execute_result"
    },
    {
     "data": {
      "image/png": "[encoded data removed]",
      "text/plain": [
       "<Figure size 640x480 with 1 Axes>"
      ]
     },
     "metadata": {},
     "output_type": "display_data"
    }
   ],
   "source": [
    "sns.boxplot(data=df, x='helpful_votes')"
   ]
  },
  {
   "cell_type": "code",
   "execution_count": 39,
   "id": "81f410a7",
   "metadata": {},
   "outputs": [
    {
     "data": {
      "text/plain": [
       "<Axes: xlabel='total_votes'>"
      ]
     },
     "execution_count": 39,
     "metadata": {},
     "output_type": "execute_result"
    },
    {
     "data": {
      "image/png": "[encoded data removed]",
      "text/plain": [
       "<Figure size 640x480 with 1 Axes>"
      ]
     },
     "metadata": {},
     "output_type": "display_data"
    }
   ],
   "source": [
    "sns.boxplot(data=df, x='total_votes')"
   ]
  },
  {
   "cell_type": "markdown",
   "id": "85b07e7e",
   "metadata": {},
   "source": [
    "As we can see there are very few outliers in the helpful votes and total votes. \n",
    "we can rmove it using IQR and Z Score."
   ]
  },
  {
   "cell_type": "markdown",
   "id": "d9c4d4ca",
   "metadata": {},
   "source": [
    "### Visualisation "
   ]
  },
  {
   "cell_type": "code",
   "execution_count": 40,
   "id": "a18cae8d",
   "metadata": {},
   "outputs": [
    {
     "data": {
      "text/plain": [
       "star_rating\n",
       "1    83\n",
       "0    17\n",
       "Name: count, dtype: int64"
      ]
     },
     "execution_count": 40,
     "metadata": {},
     "output_type": "execute_result"
    }
   ],
   "source": [
    "df.star_rating.value_counts()"
   ]
  },
  {
   "cell_type": "code",
   "execution_count": 41,
   "id": "8ef27ad6",
   "metadata": {},
   "outputs": [
    {
     "data": {
      "image/png": "[encoded data removed]",
      "text/plain": [
       "<Figure size 600x400 with 1 Axes>"
      ]
     },
     "metadata": {},
     "output_type": "display_data"
    }
   ],
   "source": [
    "plt.figure(figsize=(6,4))\n",
    "df['star_rating'].value_counts().plot(kind='pie',autopct='%0.2f%%')\n",
    "plt.show()"
   ]
  },
  {
   "cell_type": "markdown",
   "id": "b67de4a7",
   "metadata": {},
   "source": [
    "As we have total counts of 100, it is showing 83% people have star rating and 17% have not given star rating."
   ]
  },
  {
   "cell_type": "code",
   "execution_count": 42,
   "id": "49aa9349",
   "metadata": {},
   "outputs": [
    {
     "data": {
      "text/plain": [
       "verified_purchase\n",
       "Y    83\n",
       "N    17\n",
       "Name: count, dtype: int64"
      ]
     },
     "execution_count": 42,
     "metadata": {},
     "output_type": "execute_result"
    }
   ],
   "source": [
    "df.verified_purchase.value_counts()"
   ]
  },
  {
   "cell_type": "code",
   "execution_count": 43,
   "id": "8db5c0c0",
   "metadata": {},
   "outputs": [
    {
     "data": {
      "image/png": "[encoded data removed]",
      "text/plain": [
       "<Figure size 600x400 with 1 Axes>"
      ]
     },
     "metadata": {},
     "output_type": "display_data"
    }
   ],
   "source": [
    "plt.figure(figsize=(6,4))\n",
    "df['verified_purchase'].value_counts().plot(kind='bar',color='r')\n",
    "plt.show()"
   ]
  },
  {
   "cell_type": "markdown",
   "id": "721071dd",
   "metadata": {},
   "source": [
    "From above we can say 83people have said it is verified purchase and 17people didnt, \n",
    "we can say people have given star rating have said verified purchase"
   ]
  },
  {
   "cell_type": "code",
   "execution_count": 44,
   "id": "85df4cfa",
   "metadata": {},
   "outputs": [
    {
     "data": {
      "text/plain": [
       "helpful_votes\n",
       "0    72\n",
       "1    17\n",
       "2     6\n",
       "3     2\n",
       "5     2\n",
       "4     1\n",
       "Name: count, dtype: int64"
      ]
     },
     "execution_count": 44,
     "metadata": {},
     "output_type": "execute_result"
    }
   ],
   "source": [
    "df.helpful_votes.value_counts()"
   ]
  },
  {
   "cell_type": "code",
   "execution_count": 45,
   "id": "820ca77b",
   "metadata": {},
   "outputs": [
    {
     "data": {
      "image/png": "[encoded data removed]",
      "text/plain": [
       "<Figure size 640x480 with 1 Axes>"
      ]
     },
     "metadata": {},
     "output_type": "display_data"
    }
   ],
   "source": [
    "sns.histplot(df['helpful_votes'])\n",
    "plt.show()"
   ]
  },
  {
   "cell_type": "markdown",
   "id": "1f5f6847",
   "metadata": {},
   "source": [
    "As we can see there are 72 people who have given helpful votes of 0 and we can consider 3, 4 and 5 as outliers as very less number of people has given the votes"
   ]
  },
  {
   "cell_type": "code",
   "execution_count": 46,
   "id": "570e9c11",
   "metadata": {},
   "outputs": [
    {
     "data": {
      "text/plain": [
       "total_votes\n",
       "0    66\n",
       "1    20\n",
       "2     6\n",
       "4     3\n",
       "3     2\n",
       "5     2\n",
       "7     1\n",
       "Name: count, dtype: int64"
      ]
     },
     "execution_count": 46,
     "metadata": {},
     "output_type": "execute_result"
    }
   ],
   "source": [
    "df.total_votes.value_counts()"
   ]
  },
  {
   "cell_type": "code",
   "execution_count": 47,
   "id": "29c2164a",
   "metadata": {},
   "outputs": [
    {
     "data": {
      "text/plain": [
       "review_date\n",
       "2015-08-31    100\n",
       "Name: count, dtype: int64"
      ]
     },
     "execution_count": 47,
     "metadata": {},
     "output_type": "execute_result"
    }
   ],
   "source": [
    "df.review_date.value_counts()"
   ]
  },
  {
   "cell_type": "markdown",
   "id": "a1bf9fda",
   "metadata": {},
   "source": [
    "It can be seen that all the 100 records are for date 31-08-2015"
   ]
  },
  {
   "cell_type": "code",
   "execution_count": 48,
   "id": "db06f1a2",
   "metadata": {},
   "outputs": [
    {
     "data": {
      "text/plain": [
       "Sentiment_grcry\n",
       "positive    83\n",
       "negaitve    17\n",
       "Name: count, dtype: int64"
      ]
     },
     "execution_count": 48,
     "metadata": {},
     "output_type": "execute_result"
    }
   ],
   "source": [
    "df.Sentiment_grcry.value_counts()"
   ]
  },
  {
   "cell_type": "code",
   "execution_count": 49,
   "id": "e574b39a",
   "metadata": {},
   "outputs": [
    {
     "data": {
      "text/plain": [
       "Index(['customer_id', 'product_title', 'star_rating', 'helpful_votes',\n",
       "       'total_votes', 'verified_purchase', 'review_date', 'Sentiment_grcry',\n",
       "       'day'],\n",
       "      dtype='object')"
      ]
     },
     "execution_count": 49,
     "metadata": {},
     "output_type": "execute_result"
    }
   ],
   "source": [
    "df.columns"
   ]
  },
  {
   "cell_type": "code",
   "execution_count": 50,
   "id": "dd92ddc4",
   "metadata": {},
   "outputs": [
    {
     "data": {
      "text/html": [
       "<div>\n",
       "<style scoped>\n",
       "    .dataframe tbody tr th:only-of-type {\n",
       "        vertical-align: middle;\n",
       "    }\n",
       "\n",
       "    .dataframe tbody tr th {\n",
       "        vertical-align: top;\n",
       "    }\n",
       "\n",
       "    .dataframe thead th {\n",
       "        text-align: right;\n",
       "    }\n",
       "</style>\n",
       "<table border=\"1\" class=\"dataframe\">\n",
       "  <thead>\n",
       "    <tr style=\"text-align: right;\">\n",
       "      <th></th>\n",
       "      <th>customer_id</th>\n",
       "      <th>product_title</th>\n",
       "      <th>star_rating</th>\n",
       "      <th>helpful_votes</th>\n",
       "      <th>total_votes</th>\n",
       "      <th>verified_purchase</th>\n",
       "      <th>review_date</th>\n",
       "      <th>Sentiment_grcry</th>\n",
       "      <th>day</th>\n",
       "    </tr>\n",
       "  </thead>\n",
       "  <tbody>\n",
       "    <tr>\n",
       "      <th>7</th>\n",
       "      <td>46612941</td>\n",
       "      <td>Shirakiku Soba Noodles, 7.16 Ounce</td>\n",
       "      <td>1</td>\n",
       "      <td>2</td>\n",
       "      <td>2</td>\n",
       "      <td>Y</td>\n",
       "      <td>2015-08-31</td>\n",
       "      <td>positive</td>\n",
       "      <td>31</td>\n",
       "    </tr>\n",
       "  </tbody>\n",
       "</table>\n",
       "</div>"
      ],
      "text/plain": [
       "   customer_id                       product_title  star_rating  \\\n",
       "7     46612941  Shirakiku Soba Noodles, 7.16 Ounce            1   \n",
       "\n",
       "   helpful_votes  total_votes verified_purchase review_date Sentiment_grcry  \\\n",
       "7              2            2                 Y  2015-08-31        positive   \n",
       "\n",
       "   day  \n",
       "7   31  "
      ]
     },
     "execution_count": 50,
     "metadata": {},
     "output_type": "execute_result"
    }
   ],
   "source": [
    "df.sample()"
   ]
  },
  {
   "cell_type": "code",
   "execution_count": 51,
   "id": "8df12f97",
   "metadata": {},
   "outputs": [
    {
     "data": {
      "image/png": "[encoded data removed]",
      "text/plain": [
       "<Figure size 640x480 with 1 Axes>"
      ]
     },
     "metadata": {},
     "output_type": "display_data"
    }
   ],
   "source": [
    "sns.barplot(data=df,x='verified_purchase',y='helpful_votes',hue='star_rating')\n",
    "plt.show()"
   ]
  },
  {
   "cell_type": "markdown",
   "id": "2fb5a8b9",
   "metadata": {},
   "source": [
    "From aboe we can say that there are very less number of people wo has given 0 star rating and less helpful votes with respect to verified purchase."
   ]
  },
  {
   "cell_type": "code",
   "execution_count": 52,
   "id": "b954b3ec",
   "metadata": {},
   "outputs": [
    {
     "name": "stderr",
     "output_type": "stream",
     "text": [
      "C:\\Users\\Admin\\anaconda3\\Lib\\site-packages\\seaborn\\axisgrid.py:118: UserWarning: The figure layout has changed to tight\n",
      "  self._figure.tight_layout(*args, **kwargs)\n"
     ]
    },
    {
     "data": {
      "image/png": "[encoded data removed]",
      "text/plain": [
       "<Figure size 634.486x500 with 1 Axes>"
      ]
     },
     "metadata": {},
     "output_type": "display_data"
    }
   ],
   "source": [
    "sns.lmplot(data=df,x='star_rating',y='total_votes',hue='verified_purchase')\n",
    "plt.show()"
   ]
  },
  {
   "cell_type": "code",
   "execution_count": null,
   "id": "d47a1bd4",
   "metadata": {},
   "outputs": [],
   "source": [
    "From above we can say that more number of total votes have given verified purchase than other people."
   ]
  },
  {
   "cell_type": "code",
   "execution_count": 75,
   "id": "b1730b46",
   "metadata": {},
   "outputs": [
    {
     "data": {
      "image/png": "[encoded data removed]",
      "text/plain": [
       "<Figure size 640x480 with 1 Axes>"
      ]
     },
     "metadata": {},
     "output_type": "display_data"
    }
   ],
   "source": [
    "sns.scatterplot(data=df,x='helpful_votes',y='total_votes')\n",
    "plt.show()"
   ]
  },
  {
   "cell_type": "markdown",
   "id": "58b55203",
   "metadata": {},
   "source": [
    "As we can see 5 is the highest votes given for helpful votes and 7 is the highest total vote."
   ]
  },
  {
   "cell_type": "code",
   "execution_count": 80,
   "id": "9a2ccf77",
   "metadata": {},
   "outputs": [
    {
     "data": {
      "image/png": "[encoded data removed]",
      "text/plain": [
       "<Figure size 640x480 with 1 Axes>"
      ]
     },
     "metadata": {},
     "output_type": "display_data"
    }
   ],
   "source": [
    "sns.countplot(data=df,x='Sentiment_grcry',hue='verified_purchase')\n",
    "plt.show()"
   ]
  },
  {
   "cell_type": "markdown",
   "id": "0994dcb4",
   "metadata": {},
   "source": [
    "From above, we can see the people who have given positive sentiment given yes to the verified purchase and this belongs to maximum community f the data."
   ]
  },
  {
   "cell_type": "code",
   "execution_count": null,
   "id": "bd844921",
   "metadata": {},
   "outputs": [],
   "source": []
  },
  {
   "cell_type": "code",
   "execution_count": null,
   "id": "0bf7f29a",
   "metadata": {},
   "outputs": [],
   "source": []
  }
 ],
 "metadata": {
  "kernelspec": {
   "display_name": "Python 3 (ipykernel)",
   "language": "python",
   "name": "python3"
  },
  "language_info": {
   "codemirror_mode": {
    "name": "ipython",
    "version": 3
   },
   "file_extension": ".py",
   "mimetype": "text/x-python",
   "name": "python",
   "nbconvert_exporter": "python",
   "pygments_lexer": "ipython3",
   "version": "3.11.5"
  }
 },
 "nbformat": 4,
 "nbformat_minor": 5
}
